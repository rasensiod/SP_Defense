{
 "cells": [
  {
   "cell_type": "code",
   "execution_count": 1,
   "id": "18141e8b",
   "metadata": {
    "_cell_guid": "b1076dfc-b9ad-4769-8c92-a6c4dae69d19",
    "_uuid": "8f2839f25d086af736a60e9eeb907d3b93b6e0e5",
    "execution": {
     "iopub.execute_input": "2022-06-16T05:59:52.421805Z",
     "iopub.status.busy": "2022-06-16T05:59:52.421203Z",
     "iopub.status.idle": "2022-06-16T06:00:00.868285Z",
     "shell.execute_reply": "2022-06-16T06:00:00.867242Z"
    },
    "papermill": {
     "duration": 8.454651,
     "end_time": "2022-06-16T06:00:00.870787",
     "exception": false,
     "start_time": "2022-06-16T05:59:52.416136",
     "status": "completed"
    },
    "tags": []
   },
   "outputs": [],
   "source": [
    "import pandas as pd\n",
    "from sklearn.feature_extraction.text import CountVectorizer\n",
    "from sklearn.model_selection import train_test_split\n",
    "from nltk.corpus import stopwords\n",
    "from sklearn.metrics import accuracy_score, f1_score\n",
    "from sklearn.linear_model import LogisticRegression\n",
    "from sklearn.ensemble import RandomForestClassifier\n",
    "from sklearn.svm import SVC\n",
    "from sklearn.naive_bayes import GaussianNB\n",
    "import tensorflow as tf\n",
    "import numpy as np\n",
    "from sklearn.metrics import confusion_matrix\n",
    "from tensorflow.keras import models, layers\n",
    "import warnings\n",
    "\n",
    "warnings.filterwarnings('ignore')"
   ]
  },
  {
   "cell_type": "code",
   "execution_count": 2,
   "id": "750b36ab",
   "metadata": {
    "execution": {
     "iopub.execute_input": "2022-06-16T06:00:00.877880Z",
     "iopub.status.busy": "2022-06-16T06:00:00.877209Z",
     "iopub.status.idle": "2022-06-16T06:00:00.926059Z",
     "shell.execute_reply": "2022-06-16T06:00:00.925272Z"
    },
    "papermill": {
     "duration": 0.055647,
     "end_time": "2022-06-16T06:00:00.929207",
     "exception": false,
     "start_time": "2022-06-16T06:00:00.873560",
     "status": "completed"
    },
    "tags": []
   },
   "outputs": [],
   "source": [
    "df = pd.read_csv(\"../input/sql-injection-dataset/sqli.csv\",encoding='utf-16')\n",
    "\n",
    "X = df['Sentence']\n",
    "y = df['Label']"
   ]
  },
  {
   "cell_type": "code",
   "execution_count": 3,
   "id": "d981bd47",
   "metadata": {
    "execution": {
     "iopub.execute_input": "2022-06-16T06:00:00.941895Z",
     "iopub.status.busy": "2022-06-16T06:00:00.941051Z",
     "iopub.status.idle": "2022-06-16T06:00:01.381610Z",
     "shell.execute_reply": "2022-06-16T06:00:01.380801Z"
    },
    "papermill": {
     "duration": 0.451334,
     "end_time": "2022-06-16T06:00:01.386352",
     "exception": false,
     "start_time": "2022-06-16T06:00:00.935018",
     "status": "completed"
    },
    "tags": []
   },
   "outputs": [
    {
     "name": "stdout",
     "output_type": "stream",
     "text": [
      "(3360, 4717)\n",
      "(3360,)\n",
      "(840, 4717)\n",
      "(840,)\n"
     ]
    }
   ],
   "source": [
    "vectorizer = CountVectorizer(min_df = 2, max_df = 0.8, stop_words = stopwords.words('english'))\n",
    "X = vectorizer.fit_transform(X.values.astype('U')).toarray()\n",
    "\n",
    "X_train, X_test, y_train, y_test = train_test_split(X, y, test_size = 0.2, random_state=1)\n",
    "print(X_train.shape)\n",
    "print(y_train.shape)\n",
    "print(X_test.shape)\n",
    "print(y_test.shape)"
   ]
  },
  {
   "cell_type": "code",
   "execution_count": 4,
   "id": "0d0c2a0f",
   "metadata": {
    "execution": {
     "iopub.execute_input": "2022-06-16T06:00:01.396087Z",
     "iopub.status.busy": "2022-06-16T06:00:01.395384Z",
     "iopub.status.idle": "2022-06-16T06:00:01.778783Z",
     "shell.execute_reply": "2022-06-16T06:00:01.777795Z"
    },
    "papermill": {
     "duration": 0.390996,
     "end_time": "2022-06-16T06:00:01.781212",
     "exception": false,
     "start_time": "2022-06-16T06:00:01.390216",
     "status": "completed"
    },
    "tags": []
   },
   "outputs": [
    {
     "name": "stdout",
     "output_type": "stream",
     "text": [
      "Accuracy of Naive Bayes on test set : 0.9833333333333333\n",
      "F1 Score of Naive Bayes on test set : 0.9700854700854701\n",
      "sensitivity= 1.0\n",
      "specificity= 0.9771615008156607\n",
      "Precision= 0.941908713692946\n"
     ]
    }
   ],
   "source": [
    "nb_clf = GaussianNB()\n",
    "nb_clf.fit(X_train, y_train)\n",
    "y_pred = nb_clf.predict(X_test)\n",
    "print(f\"Accuracy of Naive Bayes on test set : {accuracy_score(y_pred, y_test)}\")\n",
    "print(f\"F1 Score of Naive Bayes on test set : {f1_score(y_pred, y_test)}\")\n",
    "\n",
    "confusion = confusion_matrix(y_test, y_pred)\n",
    "\n",
    "TP = confusion[1, 1]\n",
    "TN = confusion[0, 0]\n",
    "FP = confusion[0, 1]\n",
    "FN = confusion[1, 0]\n",
    "\n",
    "sensitivity = TP / float(FN + TP)\n",
    "\n",
    "print(\"sensitivity=\",sensitivity)\n",
    "specificity = TN / (TN + FP)\n",
    "print(\"specificity=\",specificity)\n",
    "\n",
    "\n",
    "Precision = TP / float(TP + FP)\n",
    "Recall = TP / float(TP + FN)\n",
    "F1 = 2*((Precision*Recall)/(Precision+Recall))\n",
    "print (\"Precision=\",Precision)"
   ]
  }
 ],
 "metadata": {
  "kernelspec": {
   "display_name": "Python 3",
   "language": "python",
   "name": "python3"
  },
  "language_info": {
   "codemirror_mode": {
    "name": "ipython",
    "version": 3
   },
   "file_extension": ".py",
   "mimetype": "text/x-python",
   "name": "python",
   "nbconvert_exporter": "python",
   "pygments_lexer": "ipython3",
   "version": "3.7.12"
  },
  "papermill": {
   "default_parameters": {},
   "duration": 22.666182,
   "end_time": "2022-06-16T06:00:05.086833",
   "environment_variables": {},
   "exception": null,
   "input_path": "__notebook__.ipynb",
   "output_path": "__notebook__.ipynb",
   "parameters": {},
   "start_time": "2022-06-16T05:59:42.420651",
   "version": "2.3.4"
  }
 },
 "nbformat": 4,
 "nbformat_minor": 5
}
