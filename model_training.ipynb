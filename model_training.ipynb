{
 "cells": [
  {
   "cell_type": "code",
   "execution_count": 1,
   "id": "bc11a399",
   "metadata": {},
   "outputs": [],
   "source": [
    "import os\n",
    "os.environ[\"CUDA_VISIBLE_DEVICES\"] = '6'"
   ]
  },
  {
   "cell_type": "code",
   "execution_count": 2,
   "id": "e944ab90",
   "metadata": {},
   "outputs": [
    {
     "name": "stderr",
     "output_type": "stream",
     "text": [
      "2023-03-15 00:14:35.564449: I tensorflow/core/platform/cpu_feature_guard.cc:193] This TensorFlow binary is optimized with oneAPI Deep Neural Network Library (oneDNN) to use the following CPU instructions in performance-critical operations:  AVX2 AVX512F AVX512_VNNI FMA\n",
      "To enable them in other operations, rebuild TensorFlow with the appropriate compiler flags.\n",
      "2023-03-15 00:14:35.718497: I tensorflow/core/util/util.cc:169] oneDNN custom operations are on. You may see slightly different numerical results due to floating-point round-off errors from different computation orders. To turn them off, set the environment variable `TF_ENABLE_ONEDNN_OPTS=0`.\n",
      "2023-03-15 00:14:35.753033: E tensorflow/stream_executor/cuda/cuda_blas.cc:2981] Unable to register cuBLAS factory: Attempting to register factory for plugin cuBLAS when one has already been registered\n"
     ]
    }
   ],
   "source": [
    "#loading and importing data \n",
    "import numpy as np \n",
    "import pandas as pd \n",
    "import matplotlib.pyplot as plt\n",
    "import seaborn as sns\n",
    "from sklearn.model_selection import train_test_split,StratifiedKFold,GridSearchCV\n",
    "from sklearn.linear_model import LogisticRegression\n",
    "from sklearn.ensemble import RandomForestClassifier,VotingClassifier\n",
    "from sklearn.neighbors import KNeighborsClassifier\n",
    "from sklearn.tree import DecisionTreeClassifier\n",
    "from sklearn.metrics import accuracy_score\n",
    "from sklearn.metrics import confusion_matrix, classification_report\n",
    "\n",
    "from sklearn.svm import SVC\n",
    "from sklearn import metrics\n",
    "from sklearn.naive_bayes import GaussianNB\n",
    "from sklearn.metrics import make_scorer, roc_auc_score\n",
    "from sklearn.utils import class_weight\n",
    "import scipy\n",
    "from scipy import stats\n",
    "from sklearn.preprocessing import StandardScaler\n",
    "import os\n",
    "\n",
    "\n",
    "from keras.utils.np_utils import to_categorical # convert to one-hot-encoding\n",
    "from keras.models import Sequential\n",
    "from keras.layers import Dense, Dropout, Flatten\n",
    "from keras.optimizers import RMSprop, Adam\n",
    "from keras.preprocessing.image import ImageDataGenerator\n",
    "from keras.callbacks import ReduceLROnPlateau"
   ]
  },
  {
   "cell_type": "code",
   "execution_count": 3,
   "id": "d4fca206",
   "metadata": {},
   "outputs": [
    {
     "name": "stdout",
     "output_type": "stream",
     "text": [
      "['Syn.csv', 'Portmap.csv', 'NetBIOS.csv', 'df_clean.csv', 'df.csv', 'UDPLag.csv', 'LDAP.csv', 'MSSQL.csv', 'UDP.csv']\n"
     ]
    }
   ],
   "source": [
    "data_dir = '/scratch/zczqlzh/ddos_lab/dataset/03-11/'\n",
    "df_path = '/scratch/zczqlzh/ddos_lab/dataset/03-11/df.csv'\n",
    "df_clean_path = '/scratch/zczqlzh/ddos_lab/dataset/03-11/df_clean.csv'\n",
    "print(os.listdir(data_dir))"
   ]
  },
  {
   "cell_type": "code",
   "execution_count": 9,
   "id": "b716bd7f",
   "metadata": {},
   "outputs": [
    {
     "name": "stderr",
     "output_type": "stream",
     "text": [
      "/tmp/ipykernel_863629/1435790579.py:1: DtypeWarning: Columns (85) have mixed types. Specify dtype option on import or set low_memory=False.\n",
      "  df_SYN = pd.read_csv('/scratch/zczqlzh/ddos_lab/dataset/03-11/Syn.csv')\n",
      "/tmp/ipykernel_863629/1435790579.py:2: DtypeWarning: Columns (85) have mixed types. Specify dtype option on import or set low_memory=False.\n",
      "  df_MSSQL = pd.read_csv('/scratch/zczqlzh/ddos_lab/dataset/03-11/MSSQL.csv')\n",
      "/tmp/ipykernel_863629/1435790579.py:3: DtypeWarning: Columns (85) have mixed types. Specify dtype option on import or set low_memory=False.\n",
      "  df_UDPLag = pd.read_csv('/scratch/zczqlzh/ddos_lab/dataset/03-11/UDPLag.csv')\n",
      "/tmp/ipykernel_863629/1435790579.py:4: DtypeWarning: Columns (85) have mixed types. Specify dtype option on import or set low_memory=False.\n",
      "  df_LDAP = pd.read_csv('/scratch/zczqlzh/ddos_lab/dataset/03-11/LDAP.csv')\n",
      "/tmp/ipykernel_863629/1435790579.py:5: DtypeWarning: Columns (85) have mixed types. Specify dtype option on import or set low_memory=False.\n",
      "  df_UDP = pd.read_csv('/scratch/zczqlzh/ddos_lab/dataset/03-11/UDP.csv')\n",
      "/tmp/ipykernel_863629/1435790579.py:6: DtypeWarning: Columns (85) have mixed types. Specify dtype option on import or set low_memory=False.\n",
      "  df_Portmap = pd.read_csv('/scratch/zczqlzh/ddos_lab/dataset/03-11/Portmap.csv')\n",
      "/tmp/ipykernel_863629/1435790579.py:7: DtypeWarning: Columns (85) have mixed types. Specify dtype option on import or set low_memory=False.\n",
      "  df_NetBIOS = pd.read_csv('/scratch/zczqlzh/ddos_lab/dataset/03-11/NetBIOS.csv')\n"
     ]
    }
   ],
   "source": [
    "\n",
    "# df_SYN = pd.read_csv('/scratch/zczqlzh/ddos_lab/dataset/03-11/Syn.csv')\n",
    "# df_MSSQL = pd.read_csv('/scratch/zczqlzh/ddos_lab/dataset/03-11/MSSQL.csv')\n",
    "# df_UDPLag = pd.read_csv('/scratch/zczqlzh/ddos_lab/dataset/03-11/UDPLag.csv')\n",
    "# df_LDAP = pd.read_csv('/scratch/zczqlzh/ddos_lab/dataset/03-11/LDAP.csv')\n",
    "# df_UDP = pd.read_csv('/scratch/zczqlzh/ddos_lab/dataset/03-11/UDP.csv')\n",
    "# df_Portmap = pd.read_csv('/scratch/zczqlzh/ddos_lab/dataset/03-11/Portmap.csv')\n",
    "# df_NetBIOS = pd.read_csv('/scratch/zczqlzh/ddos_lab/dataset/03-11/NetBIOS.csv')\n"
   ]
  },
  {
   "cell_type": "code",
   "execution_count": null,
   "id": "6c4d851a",
   "metadata": {},
   "outputs": [],
   "source": [
    "# df = pd.concat([df_SYN, df_MSSQL, df_UDPLag, df_LDAP, df_UDP, df_Portmap, df_NetBIOS], axis=0)\n",
    "# df.to_csv(df_path)"
   ]
  },
  {
   "cell_type": "code",
   "execution_count": 6,
   "id": "2e6f2de3",
   "metadata": {},
   "outputs": [],
   "source": [
    "df = pd.read_csv(df_path)\n",
    "print(df.head(10))\n",
    "# df[' Label'].value_counts()"
   ]
  },
  {
   "cell_type": "code",
   "execution_count": 5,
   "id": "6d4b4117",
   "metadata": {},
   "outputs": [
    {
     "name": "stdout",
     "output_type": "stream",
     "text": [
      "(20364525, 89)\n"
     ]
    }
   ],
   "source": [
    "# df.info()\n",
    "\n",
    "print(df.shape)"
   ]
  },
  {
   "cell_type": "code",
   "execution_count": 6,
   "id": "586d75f3",
   "metadata": {},
   "outputs": [
    {
     "name": "stdout",
     "output_type": "stream",
     "text": [
      "Unnamed: 0.1      int64\n",
      "Unnamed: 0        int64\n",
      "Flow ID          object\n",
      " Source IP       object\n",
      " Source Port      int64\n",
      "                 ...   \n",
      " Idle Max       float64\n",
      " Idle Min       float64\n",
      "SimillarHTTP     object\n",
      " Inbound          int64\n",
      " Label           object\n",
      "Length: 89, dtype: object\n"
     ]
    }
   ],
   "source": [
    "print(df.dtypes)"
   ]
  },
  {
   "cell_type": "code",
   "execution_count": 7,
   "id": "eeae4a73",
   "metadata": {},
   "outputs": [
    {
     "data": {
      "text/plain": [
       "Index(['Unnamed: 0.1', 'Unnamed: 0', 'Flow ID', ' Source IP', ' Source Port',\n",
       "       ' Destination IP', ' Destination Port', ' Protocol', ' Timestamp',\n",
       "       ' Flow Duration', ' Total Fwd Packets', ' Total Backward Packets',\n",
       "       'Total Length of Fwd Packets', ' Total Length of Bwd Packets',\n",
       "       ' Fwd Packet Length Max', ' Fwd Packet Length Min',\n",
       "       ' Fwd Packet Length Mean', ' Fwd Packet Length Std',\n",
       "       'Bwd Packet Length Max', ' Bwd Packet Length Min',\n",
       "       ' Bwd Packet Length Mean', ' Bwd Packet Length Std', 'Flow Bytes/s',\n",
       "       ' Flow Packets/s', ' Flow IAT Mean', ' Flow IAT Std', ' Flow IAT Max',\n",
       "       ' Flow IAT Min', 'Fwd IAT Total', ' Fwd IAT Mean', ' Fwd IAT Std',\n",
       "       ' Fwd IAT Max', ' Fwd IAT Min', 'Bwd IAT Total', ' Bwd IAT Mean',\n",
       "       ' Bwd IAT Std', ' Bwd IAT Max', ' Bwd IAT Min', 'Fwd PSH Flags',\n",
       "       ' Bwd PSH Flags', ' Fwd URG Flags', ' Bwd URG Flags',\n",
       "       ' Fwd Header Length', ' Bwd Header Length', 'Fwd Packets/s',\n",
       "       ' Bwd Packets/s', ' Min Packet Length', ' Max Packet Length',\n",
       "       ' Packet Length Mean', ' Packet Length Std', ' Packet Length Variance',\n",
       "       'FIN Flag Count', ' SYN Flag Count', ' RST Flag Count',\n",
       "       ' PSH Flag Count', ' ACK Flag Count', ' URG Flag Count',\n",
       "       ' CWE Flag Count', ' ECE Flag Count', ' Down/Up Ratio',\n",
       "       ' Average Packet Size', ' Avg Fwd Segment Size',\n",
       "       ' Avg Bwd Segment Size', ' Fwd Header Length.1', 'Fwd Avg Bytes/Bulk',\n",
       "       ' Fwd Avg Packets/Bulk', ' Fwd Avg Bulk Rate', ' Bwd Avg Bytes/Bulk',\n",
       "       ' Bwd Avg Packets/Bulk', 'Bwd Avg Bulk Rate', 'Subflow Fwd Packets',\n",
       "       ' Subflow Fwd Bytes', ' Subflow Bwd Packets', ' Subflow Bwd Bytes',\n",
       "       'Init_Win_bytes_forward', ' Init_Win_bytes_backward',\n",
       "       ' act_data_pkt_fwd', ' min_seg_size_forward', 'Active Mean',\n",
       "       ' Active Std', ' Active Max', ' Active Min', 'Idle Mean', ' Idle Std',\n",
       "       ' Idle Max', ' Idle Min', 'SimillarHTTP', ' Inbound', ' Label'],\n",
       "      dtype='object')"
      ]
     },
     "execution_count": 7,
     "metadata": {},
     "output_type": "execute_result"
    }
   ],
   "source": [
    "df.columns"
   ]
  },
  {
   "cell_type": "code",
   "execution_count": 8,
   "id": "7acb0f39",
   "metadata": {},
   "outputs": [
    {
     "name": "stdout",
     "output_type": "stream",
     "text": [
      "Label distribution\n",
      "\n",
      "MSSQL      5787453\n",
      "Syn        4891500\n",
      "UDP        3867155\n",
      "NetBIOS    3657497\n",
      "LDAP       1915122\n",
      "Portmap     186960\n",
      "BENIGN       56965\n",
      "UDPLag        1873\n",
      "Name:  Label, dtype: int64\n"
     ]
    }
   ],
   "source": [
    "print('Label distribution\\n')\n",
    "print(df[' Label'].value_counts())"
   ]
  },
  {
   "cell_type": "code",
   "execution_count": 9,
   "id": "317c817f",
   "metadata": {},
   "outputs": [
    {
     "name": "stdout",
     "output_type": "stream",
     "text": [
      "Feature 'Flow ID' has 17800442 categories\n",
      "Feature ' Source IP' has 1232 categories\n",
      "Feature ' Destination IP' has 1286 categories\n",
      "Feature ' Timestamp' has 19879763 categories\n",
      "Feature 'SimillarHTTP' has 234 categories\n",
      "Feature ' Label' has 8 categories\n"
     ]
    }
   ],
   "source": [
    "##types of object remove flowid and timestamp\n",
    "for col in df.columns:\n",
    "    if df[col].dtypes == 'object' :\n",
    "        unique = len(df[col].unique())\n",
    "        print(\"Feature '{col}' has {unique} categories\".format(col=col, unique=unique))"
   ]
  },
  {
   "cell_type": "code",
   "execution_count": 15,
   "id": "84a05ced",
   "metadata": {},
   "outputs": [
    {
     "name": "stdout",
     "output_type": "stream",
     "text": [
      "Feature ' Label' has 8 categories\n"
     ]
    }
   ],
   "source": [
    "##valid\n",
    "for col in df.columns:\n",
    "    if df[col].dtypes == 'object' :\n",
    "        unique = len(df[col].unique())\n",
    "        print(\"Feature '{col}' has {unique} categories\".format(col=col, unique=unique))"
   ]
  },
  {
   "cell_type": "code",
   "execution_count": null,
   "id": "2d227151",
   "metadata": {},
   "outputs": [],
   "source": []
  },
  {
   "cell_type": "code",
   "execution_count": null,
   "id": "2cdf2b4e",
   "metadata": {},
   "outputs": [],
   "source": []
  },
  {
   "cell_type": "code",
   "execution_count": 18,
   "id": "1ad2026a",
   "metadata": {},
   "outputs": [],
   "source": [
    "# print(df['SimillarHTTP'].value_counts().sort_values(ascending=False).head())\n",
    "# print('\\n')"
   ]
  },
  {
   "cell_type": "code",
   "execution_count": 10,
   "id": "17db5d57",
   "metadata": {},
   "outputs": [
    {
     "name": "stdout",
     "output_type": "stream",
     "text": [
      "Feature 'Unnamed: 0.1' has 5775786 categories\n",
      "Feature 'Unnamed: 0' has 670644 categories\n",
      "Feature ' Source Port' has 61031 categories\n",
      "Feature ' Destination Port' has 65535 categories\n",
      "Feature ' Protocol' has 3 categories\n",
      "Feature ' Flow Duration' has 617237 categories\n",
      "Feature ' Total Fwd Packets' has 396 categories\n",
      "Feature ' Total Backward Packets' has 399 categories\n",
      "Feature 'Fwd PSH Flags' has 2 categories\n",
      "Feature ' Bwd PSH Flags' has 1 categories\n",
      "Feature ' Fwd URG Flags' has 1 categories\n",
      "Feature ' Bwd URG Flags' has 1 categories\n",
      "Feature ' Fwd Header Length' has 3492 categories\n",
      "Feature ' Bwd Header Length' has 936 categories\n",
      "Feature 'FIN Flag Count' has 1 categories\n",
      "Feature ' SYN Flag Count' has 2 categories\n",
      "Feature ' RST Flag Count' has 2 categories\n",
      "Feature ' PSH Flag Count' has 1 categories\n",
      "Feature ' ACK Flag Count' has 2 categories\n",
      "Feature ' URG Flag Count' has 2 categories\n",
      "Feature ' CWE Flag Count' has 2 categories\n",
      "Feature ' ECE Flag Count' has 1 categories\n",
      "Feature ' Fwd Header Length.1' has 3492 categories\n",
      "Feature 'Fwd Avg Bytes/Bulk' has 1 categories\n",
      "Feature ' Fwd Avg Packets/Bulk' has 1 categories\n",
      "Feature ' Fwd Avg Bulk Rate' has 1 categories\n",
      "Feature ' Bwd Avg Bytes/Bulk' has 1 categories\n",
      "Feature ' Bwd Avg Packets/Bulk' has 1 categories\n",
      "Feature 'Bwd Avg Bulk Rate' has 1 categories\n",
      "Feature 'Subflow Fwd Packets' has 396 categories\n",
      "Feature ' Subflow Fwd Bytes' has 4386 categories\n",
      "Feature ' Subflow Bwd Packets' has 399 categories\n",
      "Feature ' Subflow Bwd Bytes' has 4611 categories\n",
      "Feature 'Init_Win_bytes_forward' has 1743 categories\n",
      "Feature ' Init_Win_bytes_backward' has 1337 categories\n",
      "Feature ' act_data_pkt_fwd' has 237 categories\n",
      "Feature ' min_seg_size_forward' has 933 categories\n",
      "Feature ' Inbound' has 2 categories\n",
      "The following features have the same value:\n",
      "[' Bwd PSH Flags', ' Fwd URG Flags', ' Bwd URG Flags', 'FIN Flag Count', ' PSH Flag Count', ' ECE Flag Count', 'Fwd Avg Bytes/Bulk', ' Fwd Avg Packets/Bulk', ' Fwd Avg Bulk Rate', ' Bwd Avg Bytes/Bulk', ' Bwd Avg Packets/Bulk', 'Bwd Avg Bulk Rate']\n"
     ]
    }
   ],
   "source": [
    "##types of int:  Protocol\n",
    "list=[]\n",
    "for col in df.columns:\n",
    "    if df[col].dtypes == 'int64' :\n",
    "        unique = len(df[col].unique())\n",
    "        if unique == 1:\n",
    "            list.append(col)\n",
    "        print(\"Feature '{col}' has {unique} categories\".format(col=col, unique=unique))\n",
    "print(\"The following features have the same value:\")\n",
    "print(list)"
   ]
  },
  {
   "cell_type": "code",
   "execution_count": 17,
   "id": "f7850936",
   "metadata": {},
   "outputs": [
    {
     "name": "stdout",
     "output_type": "stream",
     "text": [
      "Feature ' Source Port' has 61031 categories\n",
      "Feature ' Destination Port' has 65535 categories\n",
      "Feature ' Protocol' has 3 categories\n",
      "Feature ' Flow Duration' has 617237 categories\n",
      "Feature ' Total Fwd Packets' has 396 categories\n",
      "Feature ' Total Backward Packets' has 399 categories\n",
      "Feature 'Fwd PSH Flags' has 2 categories\n",
      "Feature ' Fwd Header Length' has 3492 categories\n",
      "Feature ' Bwd Header Length' has 936 categories\n",
      "Feature ' SYN Flag Count' has 2 categories\n",
      "Feature ' RST Flag Count' has 2 categories\n",
      "Feature ' ACK Flag Count' has 2 categories\n",
      "Feature ' URG Flag Count' has 2 categories\n",
      "Feature ' CWE Flag Count' has 2 categories\n",
      "Feature ' Fwd Header Length.1' has 3492 categories\n",
      "Feature 'Subflow Fwd Packets' has 396 categories\n",
      "Feature ' Subflow Fwd Bytes' has 4386 categories\n",
      "Feature ' Subflow Bwd Packets' has 399 categories\n",
      "Feature ' Subflow Bwd Bytes' has 4611 categories\n",
      "Feature 'Init_Win_bytes_forward' has 1743 categories\n",
      "Feature ' Init_Win_bytes_backward' has 1337 categories\n",
      "Feature ' act_data_pkt_fwd' has 237 categories\n",
      "Feature ' min_seg_size_forward' has 933 categories\n",
      "Feature ' Inbound' has 2 categories\n"
     ]
    }
   ],
   "source": [
    "## valid\n",
    "##types of int:  Protocol\n",
    "for col in df.columns:\n",
    "    if df[col].dtypes == 'int64' :\n",
    "        unique = len(df[col].unique())\n",
    "        print(\"Feature '{col}' has {unique} categories\".format(col=col, unique=unique))\n"
   ]
  },
  {
   "cell_type": "code",
   "execution_count": null,
   "id": "9bc23fbb",
   "metadata": {},
   "outputs": [],
   "source": []
  },
  {
   "cell_type": "code",
   "execution_count": 19,
   "id": "aa003943",
   "metadata": {},
   "outputs": [
    {
     "name": "stdout",
     "output_type": "stream",
     "text": [
      "Feature 'Total Length of Fwd Packets' has 4386 categories\n",
      "Feature ' Total Length of Bwd Packets' has 4611 categories\n",
      "Feature ' Fwd Packet Length Max' has 1907 categories\n",
      "Feature ' Fwd Packet Length Min' has 747 categories\n",
      "Feature ' Fwd Packet Length Mean' has 7276 categories\n",
      "Feature ' Fwd Packet Length Std' has 6901 categories\n",
      "Feature 'Bwd Packet Length Max' has 1069 categories\n",
      "Feature ' Bwd Packet Length Min' has 214 categories\n",
      "Feature ' Bwd Packet Length Mean' has 6189 categories\n",
      "Feature ' Bwd Packet Length Std' has 6266 categories\n",
      "Feature 'Flow Bytes/s' has 728132 categories\n",
      "Feature ' Flow Packets/s' has 635019 categories\n",
      "Feature ' Flow IAT Mean' has 647573 categories\n",
      "Feature ' Flow IAT Std' has 1391906 categories\n",
      "Feature ' Flow IAT Max' has 567744 categories\n",
      "Feature ' Flow IAT Min' has 2481 categories\n",
      "Feature 'Fwd IAT Total' has 607967 categories\n",
      "Feature ' Fwd IAT Mean' has 633907 categories\n",
      "Feature ' Fwd IAT Std' has 1374726 categories\n",
      "Feature ' Fwd IAT Max' has 556422 categories\n",
      "Feature ' Fwd IAT Min' has 816 categories\n",
      "Feature 'Bwd IAT Total' has 279207 categories\n",
      "Feature ' Bwd IAT Mean' has 281250 categories\n",
      "Feature ' Bwd IAT Std' has 282666 categories\n",
      "Feature ' Bwd IAT Max' has 277431 categories\n",
      "Feature ' Bwd IAT Min' has 158 categories\n",
      "Feature 'Fwd Packets/s' has 631519 categories\n",
      "Feature ' Bwd Packets/s' has 417214 categories\n",
      "Feature ' Min Packet Length' has 694 categories\n",
      "Feature ' Max Packet Length' has 1941 categories\n",
      "Feature ' Packet Length Mean' has 9843 categories\n",
      "Feature ' Packet Length Std' has 8848 categories\n",
      "Feature ' Packet Length Variance' has 9009 categories\n",
      "Feature ' Down/Up Ratio' has 15 categories\n",
      "Feature ' Average Packet Size' has 9771 categories\n",
      "Feature ' Avg Fwd Segment Size' has 6744 categories\n",
      "Feature ' Avg Bwd Segment Size' has 5942 categories\n",
      "Feature 'Active Mean' has 84755 categories\n",
      "Feature ' Active Std' has 124348 categories\n",
      "Feature ' Active Max' has 80532 categories\n",
      "Feature ' Active Min' has 7521 categories\n",
      "Feature 'Idle Mean' has 478705 categories\n",
      "Feature ' Idle Std' has 449900 categories\n",
      "Feature ' Idle Max' has 466553 categories\n",
      "Feature ' Idle Min' has 455352 categories\n"
     ]
    }
   ],
   "source": [
    "##types of float\n",
    "for col in df.columns:\n",
    "    if df[col].dtypes == 'float64' :\n",
    "        unique = len(df[col].unique())\n",
    "        print(\"Feature '{col}' has {unique} categories\".format(col=col, unique=unique))"
   ]
  },
  {
   "cell_type": "code",
   "execution_count": null,
   "id": "2669dfca",
   "metadata": {},
   "outputs": [],
   "source": []
  },
  {
   "cell_type": "markdown",
   "id": "0d9cfc90",
   "metadata": {},
   "source": [
    "### Clean df"
   ]
  },
  {
   "cell_type": "code",
   "execution_count": 11,
   "id": "9e14b626",
   "metadata": {},
   "outputs": [],
   "source": [
    "df = df.drop(labels = ['Unnamed: 0'],axis = 1) \n",
    "df = df.drop(labels = ['Unnamed: 0.1'],axis = 1) "
   ]
  },
  {
   "cell_type": "code",
   "execution_count": 12,
   "id": "df6a0a3d",
   "metadata": {},
   "outputs": [],
   "source": [
    "df = df.drop(labels = ['Flow ID'],axis = 1) \n",
    "df = df.drop(labels = [' Timestamp'],axis = 1) \n",
    "df = df.drop(labels = [' Source IP'],axis = 1) \n",
    "df = df.drop(labels = [' Destination IP'],axis = 1) \n",
    "df = df.drop(labels = ['SimillarHTTP'],axis = 1) \n",
    "\n"
   ]
  },
  {
   "cell_type": "code",
   "execution_count": 13,
   "id": "b0c53999",
   "metadata": {},
   "outputs": [
    {
     "name": "stdout",
     "output_type": "stream",
     "text": [
      "successfully remove the feature  Bwd PSH Flags which have the same value\n",
      "successfully remove the feature  Fwd URG Flags which have the same value\n",
      "successfully remove the feature  Bwd URG Flags which have the same value\n",
      "successfully remove the feature FIN Flag Count which have the same value\n",
      "successfully remove the feature  PSH Flag Count which have the same value\n",
      "successfully remove the feature  ECE Flag Count which have the same value\n",
      "successfully remove the feature Fwd Avg Bytes/Bulk which have the same value\n",
      "successfully remove the feature  Fwd Avg Packets/Bulk which have the same value\n",
      "successfully remove the feature  Fwd Avg Bulk Rate which have the same value\n",
      "successfully remove the feature  Bwd Avg Bytes/Bulk which have the same value\n",
      "successfully remove the feature  Bwd Avg Packets/Bulk which have the same value\n",
      "successfully remove the feature Bwd Avg Bulk Rate which have the same value\n"
     ]
    }
   ],
   "source": [
    "for i in list:\n",
    "    df = df.drop(labels = [i],axis = 1) \n",
    "    print(f\"successfully remove the feature {i} which have the same value\")"
   ]
  },
  {
   "cell_type": "code",
   "execution_count": 14,
   "id": "413ebe0f",
   "metadata": {},
   "outputs": [
    {
     "data": {
      "text/plain": [
       "(20364525, 70)"
      ]
     },
     "execution_count": 14,
     "metadata": {},
     "output_type": "execute_result"
    }
   ],
   "source": [
    "df.shape"
   ]
  },
  {
   "cell_type": "markdown",
   "id": "b2da3f2c",
   "metadata": {},
   "source": [
    "### drop null"
   ]
  },
  {
   "cell_type": "code",
   "execution_count": 20,
   "id": "fdd00b83",
   "metadata": {},
   "outputs": [
    {
     "data": {
      "text/plain": [
       "count        70\n",
       "unique        2\n",
       "top       False\n",
       "freq         69\n",
       "dtype: object"
      ]
     },
     "execution_count": 20,
     "metadata": {},
     "output_type": "execute_result"
    }
   ],
   "source": [
    "df.isnull().any().describe()"
   ]
  },
  {
   "cell_type": "code",
   "execution_count": 21,
   "id": "7c1ffbc6",
   "metadata": {},
   "outputs": [
    {
     "data": {
      "text/plain": [
       "Index([' Source Port', ' Destination Port', ' Protocol', ' Flow Duration',\n",
       "       ' Total Fwd Packets', ' Total Backward Packets',\n",
       "       'Total Length of Fwd Packets', ' Total Length of Bwd Packets',\n",
       "       ' Fwd Packet Length Max', ' Fwd Packet Length Min',\n",
       "       ' Fwd Packet Length Mean', ' Fwd Packet Length Std',\n",
       "       'Bwd Packet Length Max', ' Bwd Packet Length Min',\n",
       "       ' Bwd Packet Length Mean', ' Bwd Packet Length Std', 'Flow Bytes/s',\n",
       "       ' Flow Packets/s', ' Flow IAT Mean', ' Flow IAT Std', ' Flow IAT Max',\n",
       "       ' Flow IAT Min', 'Fwd IAT Total', ' Fwd IAT Mean', ' Fwd IAT Std',\n",
       "       ' Fwd IAT Max', ' Fwd IAT Min', 'Bwd IAT Total', ' Bwd IAT Mean',\n",
       "       ' Bwd IAT Std', ' Bwd IAT Max', ' Bwd IAT Min', 'Fwd PSH Flags',\n",
       "       ' Fwd Header Length', ' Bwd Header Length', 'Fwd Packets/s',\n",
       "       ' Bwd Packets/s', ' Min Packet Length', ' Max Packet Length',\n",
       "       ' Packet Length Mean', ' Packet Length Std', ' Packet Length Variance',\n",
       "       ' SYN Flag Count', ' RST Flag Count', ' ACK Flag Count',\n",
       "       ' URG Flag Count', ' CWE Flag Count', ' Down/Up Ratio',\n",
       "       ' Average Packet Size', ' Avg Fwd Segment Size',\n",
       "       ' Avg Bwd Segment Size', ' Fwd Header Length.1', 'Subflow Fwd Packets',\n",
       "       ' Subflow Fwd Bytes', ' Subflow Bwd Packets', ' Subflow Bwd Bytes',\n",
       "       'Init_Win_bytes_forward', ' Init_Win_bytes_backward',\n",
       "       ' act_data_pkt_fwd', ' min_seg_size_forward', 'Active Mean',\n",
       "       ' Active Std', ' Active Max', ' Active Min', 'Idle Mean', ' Idle Std',\n",
       "       ' Idle Max', ' Idle Min', ' Inbound', ' Label'],\n",
       "      dtype='object')"
      ]
     },
     "execution_count": 21,
     "metadata": {},
     "output_type": "execute_result"
    }
   ],
   "source": [
    "(df.isnull().sum()==0).index"
   ]
  },
  {
   "cell_type": "code",
   "execution_count": 22,
   "id": "8f6023c5",
   "metadata": {},
   "outputs": [
    {
     "data": {
      "text/html": [
       "<div>\n",
       "<style scoped>\n",
       "    .dataframe tbody tr th:only-of-type {\n",
       "        vertical-align: middle;\n",
       "    }\n",
       "\n",
       "    .dataframe tbody tr th {\n",
       "        vertical-align: top;\n",
       "    }\n",
       "\n",
       "    .dataframe thead th {\n",
       "        text-align: right;\n",
       "    }\n",
       "</style>\n",
       "<table border=\"1\" class=\"dataframe\">\n",
       "  <thead>\n",
       "    <tr style=\"text-align: right;\">\n",
       "      <th></th>\n",
       "      <th>Source Port</th>\n",
       "      <th>Destination Port</th>\n",
       "      <th>Protocol</th>\n",
       "      <th>Flow Duration</th>\n",
       "      <th>Total Fwd Packets</th>\n",
       "      <th>Total Backward Packets</th>\n",
       "      <th>Total Length of Fwd Packets</th>\n",
       "      <th>Total Length of Bwd Packets</th>\n",
       "      <th>Fwd Packet Length Max</th>\n",
       "      <th>Fwd Packet Length Min</th>\n",
       "      <th>...</th>\n",
       "      <th>Active Mean</th>\n",
       "      <th>Active Std</th>\n",
       "      <th>Active Max</th>\n",
       "      <th>Active Min</th>\n",
       "      <th>Idle Mean</th>\n",
       "      <th>Idle Std</th>\n",
       "      <th>Idle Max</th>\n",
       "      <th>Idle Min</th>\n",
       "      <th>Inbound</th>\n",
       "      <th>Label</th>\n",
       "    </tr>\n",
       "  </thead>\n",
       "  <tbody>\n",
       "    <tr>\n",
       "      <th>73370</th>\n",
       "      <td>38108</td>\n",
       "      <td>13523</td>\n",
       "      <td>6</td>\n",
       "      <td>0</td>\n",
       "      <td>2</td>\n",
       "      <td>0</td>\n",
       "      <td>0.0</td>\n",
       "      <td>0.0</td>\n",
       "      <td>0.0</td>\n",
       "      <td>0.0</td>\n",
       "      <td>...</td>\n",
       "      <td>0.0</td>\n",
       "      <td>0.0</td>\n",
       "      <td>0.0</td>\n",
       "      <td>0.0</td>\n",
       "      <td>0.0</td>\n",
       "      <td>0.0</td>\n",
       "      <td>0.0</td>\n",
       "      <td>0.0</td>\n",
       "      <td>1</td>\n",
       "      <td>Syn</td>\n",
       "    </tr>\n",
       "    <tr>\n",
       "      <th>73371</th>\n",
       "      <td>29175</td>\n",
       "      <td>13566</td>\n",
       "      <td>6</td>\n",
       "      <td>0</td>\n",
       "      <td>2</td>\n",
       "      <td>0</td>\n",
       "      <td>0.0</td>\n",
       "      <td>0.0</td>\n",
       "      <td>0.0</td>\n",
       "      <td>0.0</td>\n",
       "      <td>...</td>\n",
       "      <td>0.0</td>\n",
       "      <td>0.0</td>\n",
       "      <td>0.0</td>\n",
       "      <td>0.0</td>\n",
       "      <td>0.0</td>\n",
       "      <td>0.0</td>\n",
       "      <td>0.0</td>\n",
       "      <td>0.0</td>\n",
       "      <td>1</td>\n",
       "      <td>Syn</td>\n",
       "    </tr>\n",
       "    <tr>\n",
       "      <th>149312</th>\n",
       "      <td>47147</td>\n",
       "      <td>46647</td>\n",
       "      <td>6</td>\n",
       "      <td>0</td>\n",
       "      <td>2</td>\n",
       "      <td>0</td>\n",
       "      <td>0.0</td>\n",
       "      <td>0.0</td>\n",
       "      <td>0.0</td>\n",
       "      <td>0.0</td>\n",
       "      <td>...</td>\n",
       "      <td>0.0</td>\n",
       "      <td>0.0</td>\n",
       "      <td>0.0</td>\n",
       "      <td>0.0</td>\n",
       "      <td>0.0</td>\n",
       "      <td>0.0</td>\n",
       "      <td>0.0</td>\n",
       "      <td>0.0</td>\n",
       "      <td>1</td>\n",
       "      <td>Syn</td>\n",
       "    </tr>\n",
       "    <tr>\n",
       "      <th>480168</th>\n",
       "      <td>443</td>\n",
       "      <td>51846</td>\n",
       "      <td>6</td>\n",
       "      <td>0</td>\n",
       "      <td>2</td>\n",
       "      <td>0</td>\n",
       "      <td>0.0</td>\n",
       "      <td>0.0</td>\n",
       "      <td>0.0</td>\n",
       "      <td>0.0</td>\n",
       "      <td>...</td>\n",
       "      <td>0.0</td>\n",
       "      <td>0.0</td>\n",
       "      <td>0.0</td>\n",
       "      <td>0.0</td>\n",
       "      <td>0.0</td>\n",
       "      <td>0.0</td>\n",
       "      <td>0.0</td>\n",
       "      <td>0.0</td>\n",
       "      <td>1</td>\n",
       "      <td>BENIGN</td>\n",
       "    </tr>\n",
       "    <tr>\n",
       "      <th>480220</th>\n",
       "      <td>54404</td>\n",
       "      <td>443</td>\n",
       "      <td>6</td>\n",
       "      <td>0</td>\n",
       "      <td>2</td>\n",
       "      <td>0</td>\n",
       "      <td>0.0</td>\n",
       "      <td>0.0</td>\n",
       "      <td>0.0</td>\n",
       "      <td>0.0</td>\n",
       "      <td>...</td>\n",
       "      <td>0.0</td>\n",
       "      <td>0.0</td>\n",
       "      <td>0.0</td>\n",
       "      <td>0.0</td>\n",
       "      <td>0.0</td>\n",
       "      <td>0.0</td>\n",
       "      <td>0.0</td>\n",
       "      <td>0.0</td>\n",
       "      <td>0</td>\n",
       "      <td>BENIGN</td>\n",
       "    </tr>\n",
       "    <tr>\n",
       "      <th>...</th>\n",
       "      <td>...</td>\n",
       "      <td>...</td>\n",
       "      <td>...</td>\n",
       "      <td>...</td>\n",
       "      <td>...</td>\n",
       "      <td>...</td>\n",
       "      <td>...</td>\n",
       "      <td>...</td>\n",
       "      <td>...</td>\n",
       "      <td>...</td>\n",
       "      <td>...</td>\n",
       "      <td>...</td>\n",
       "      <td>...</td>\n",
       "      <td>...</td>\n",
       "      <td>...</td>\n",
       "      <td>...</td>\n",
       "      <td>...</td>\n",
       "      <td>...</td>\n",
       "      <td>...</td>\n",
       "      <td>...</td>\n",
       "      <td>...</td>\n",
       "    </tr>\n",
       "    <tr>\n",
       "      <th>17366179</th>\n",
       "      <td>889</td>\n",
       "      <td>68</td>\n",
       "      <td>17</td>\n",
       "      <td>0</td>\n",
       "      <td>2</td>\n",
       "      <td>0</td>\n",
       "      <td>0.0</td>\n",
       "      <td>0.0</td>\n",
       "      <td>0.0</td>\n",
       "      <td>0.0</td>\n",
       "      <td>...</td>\n",
       "      <td>0.0</td>\n",
       "      <td>0.0</td>\n",
       "      <td>0.0</td>\n",
       "      <td>0.0</td>\n",
       "      <td>0.0</td>\n",
       "      <td>0.0</td>\n",
       "      <td>0.0</td>\n",
       "      <td>0.0</td>\n",
       "      <td>0</td>\n",
       "      <td>NetBIOS</td>\n",
       "    </tr>\n",
       "    <tr>\n",
       "      <th>17679247</th>\n",
       "      <td>1014</td>\n",
       "      <td>68</td>\n",
       "      <td>17</td>\n",
       "      <td>0</td>\n",
       "      <td>2</td>\n",
       "      <td>0</td>\n",
       "      <td>0.0</td>\n",
       "      <td>0.0</td>\n",
       "      <td>0.0</td>\n",
       "      <td>0.0</td>\n",
       "      <td>...</td>\n",
       "      <td>0.0</td>\n",
       "      <td>0.0</td>\n",
       "      <td>0.0</td>\n",
       "      <td>0.0</td>\n",
       "      <td>0.0</td>\n",
       "      <td>0.0</td>\n",
       "      <td>0.0</td>\n",
       "      <td>0.0</td>\n",
       "      <td>0</td>\n",
       "      <td>NetBIOS</td>\n",
       "    </tr>\n",
       "    <tr>\n",
       "      <th>17793052</th>\n",
       "      <td>844</td>\n",
       "      <td>68</td>\n",
       "      <td>17</td>\n",
       "      <td>0</td>\n",
       "      <td>2</td>\n",
       "      <td>0</td>\n",
       "      <td>0.0</td>\n",
       "      <td>0.0</td>\n",
       "      <td>0.0</td>\n",
       "      <td>0.0</td>\n",
       "      <td>...</td>\n",
       "      <td>0.0</td>\n",
       "      <td>0.0</td>\n",
       "      <td>0.0</td>\n",
       "      <td>0.0</td>\n",
       "      <td>0.0</td>\n",
       "      <td>0.0</td>\n",
       "      <td>0.0</td>\n",
       "      <td>0.0</td>\n",
       "      <td>0</td>\n",
       "      <td>NetBIOS</td>\n",
       "    </tr>\n",
       "    <tr>\n",
       "      <th>18395252</th>\n",
       "      <td>818</td>\n",
       "      <td>68</td>\n",
       "      <td>17</td>\n",
       "      <td>0</td>\n",
       "      <td>2</td>\n",
       "      <td>0</td>\n",
       "      <td>0.0</td>\n",
       "      <td>0.0</td>\n",
       "      <td>0.0</td>\n",
       "      <td>0.0</td>\n",
       "      <td>...</td>\n",
       "      <td>0.0</td>\n",
       "      <td>0.0</td>\n",
       "      <td>0.0</td>\n",
       "      <td>0.0</td>\n",
       "      <td>0.0</td>\n",
       "      <td>0.0</td>\n",
       "      <td>0.0</td>\n",
       "      <td>0.0</td>\n",
       "      <td>0</td>\n",
       "      <td>NetBIOS</td>\n",
       "    </tr>\n",
       "    <tr>\n",
       "      <th>19075034</th>\n",
       "      <td>660</td>\n",
       "      <td>68</td>\n",
       "      <td>17</td>\n",
       "      <td>0</td>\n",
       "      <td>2</td>\n",
       "      <td>0</td>\n",
       "      <td>0.0</td>\n",
       "      <td>0.0</td>\n",
       "      <td>0.0</td>\n",
       "      <td>0.0</td>\n",
       "      <td>...</td>\n",
       "      <td>0.0</td>\n",
       "      <td>0.0</td>\n",
       "      <td>0.0</td>\n",
       "      <td>0.0</td>\n",
       "      <td>0.0</td>\n",
       "      <td>0.0</td>\n",
       "      <td>0.0</td>\n",
       "      <td>0.0</td>\n",
       "      <td>0</td>\n",
       "      <td>NetBIOS</td>\n",
       "    </tr>\n",
       "  </tbody>\n",
       "</table>\n",
       "<p>128 rows × 70 columns</p>\n",
       "</div>"
      ],
      "text/plain": [
       "           Source Port   Destination Port   Protocol   Flow Duration  \\\n",
       "73370            38108              13523          6               0   \n",
       "73371            29175              13566          6               0   \n",
       "149312           47147              46647          6               0   \n",
       "480168             443              51846          6               0   \n",
       "480220           54404                443          6               0   \n",
       "...                ...                ...        ...             ...   \n",
       "17366179           889                 68         17               0   \n",
       "17679247          1014                 68         17               0   \n",
       "17793052           844                 68         17               0   \n",
       "18395252           818                 68         17               0   \n",
       "19075034           660                 68         17               0   \n",
       "\n",
       "           Total Fwd Packets   Total Backward Packets  \\\n",
       "73370                      2                        0   \n",
       "73371                      2                        0   \n",
       "149312                     2                        0   \n",
       "480168                     2                        0   \n",
       "480220                     2                        0   \n",
       "...                      ...                      ...   \n",
       "17366179                   2                        0   \n",
       "17679247                   2                        0   \n",
       "17793052                   2                        0   \n",
       "18395252                   2                        0   \n",
       "19075034                   2                        0   \n",
       "\n",
       "          Total Length of Fwd Packets   Total Length of Bwd Packets  \\\n",
       "73370                             0.0                           0.0   \n",
       "73371                             0.0                           0.0   \n",
       "149312                            0.0                           0.0   \n",
       "480168                            0.0                           0.0   \n",
       "480220                            0.0                           0.0   \n",
       "...                               ...                           ...   \n",
       "17366179                          0.0                           0.0   \n",
       "17679247                          0.0                           0.0   \n",
       "17793052                          0.0                           0.0   \n",
       "18395252                          0.0                           0.0   \n",
       "19075034                          0.0                           0.0   \n",
       "\n",
       "           Fwd Packet Length Max   Fwd Packet Length Min  ...  Active Mean  \\\n",
       "73370                        0.0                     0.0  ...          0.0   \n",
       "73371                        0.0                     0.0  ...          0.0   \n",
       "149312                       0.0                     0.0  ...          0.0   \n",
       "480168                       0.0                     0.0  ...          0.0   \n",
       "480220                       0.0                     0.0  ...          0.0   \n",
       "...                          ...                     ...  ...          ...   \n",
       "17366179                     0.0                     0.0  ...          0.0   \n",
       "17679247                     0.0                     0.0  ...          0.0   \n",
       "17793052                     0.0                     0.0  ...          0.0   \n",
       "18395252                     0.0                     0.0  ...          0.0   \n",
       "19075034                     0.0                     0.0  ...          0.0   \n",
       "\n",
       "           Active Std   Active Max   Active Min  Idle Mean   Idle Std  \\\n",
       "73370             0.0          0.0          0.0        0.0        0.0   \n",
       "73371             0.0          0.0          0.0        0.0        0.0   \n",
       "149312            0.0          0.0          0.0        0.0        0.0   \n",
       "480168            0.0          0.0          0.0        0.0        0.0   \n",
       "480220            0.0          0.0          0.0        0.0        0.0   \n",
       "...               ...          ...          ...        ...        ...   \n",
       "17366179          0.0          0.0          0.0        0.0        0.0   \n",
       "17679247          0.0          0.0          0.0        0.0        0.0   \n",
       "17793052          0.0          0.0          0.0        0.0        0.0   \n",
       "18395252          0.0          0.0          0.0        0.0        0.0   \n",
       "19075034          0.0          0.0          0.0        0.0        0.0   \n",
       "\n",
       "           Idle Max   Idle Min   Inbound    Label  \n",
       "73370           0.0        0.0         1      Syn  \n",
       "73371           0.0        0.0         1      Syn  \n",
       "149312          0.0        0.0         1      Syn  \n",
       "480168          0.0        0.0         1   BENIGN  \n",
       "480220          0.0        0.0         0   BENIGN  \n",
       "...             ...        ...       ...      ...  \n",
       "17366179        0.0        0.0         0  NetBIOS  \n",
       "17679247        0.0        0.0         0  NetBIOS  \n",
       "17793052        0.0        0.0         0  NetBIOS  \n",
       "18395252        0.0        0.0         0  NetBIOS  \n",
       "19075034        0.0        0.0         0  NetBIOS  \n",
       "\n",
       "[128 rows x 70 columns]"
      ]
     },
     "execution_count": 22,
     "metadata": {},
     "output_type": "execute_result"
    }
   ],
   "source": [
    "df_nan = df[df.isnull().T.any()]\n",
    "df_nan"
   ]
  },
  {
   "cell_type": "code",
   "execution_count": 23,
   "id": "766ed2b7",
   "metadata": {},
   "outputs": [],
   "source": [
    "df_nan=df_nan.index.tolist()"
   ]
  },
  {
   "cell_type": "code",
   "execution_count": 24,
   "id": "caa86ad0",
   "metadata": {},
   "outputs": [],
   "source": [
    "#drop nan, implace means based on original df\n",
    "df.drop(index=df_nan,inplace=True)"
   ]
  },
  {
   "cell_type": "code",
   "execution_count": 25,
   "id": "c0e7f584",
   "metadata": {},
   "outputs": [
    {
     "data": {
      "text/html": [
       "<div>\n",
       "<style scoped>\n",
       "    .dataframe tbody tr th:only-of-type {\n",
       "        vertical-align: middle;\n",
       "    }\n",
       "\n",
       "    .dataframe tbody tr th {\n",
       "        vertical-align: top;\n",
       "    }\n",
       "\n",
       "    .dataframe thead th {\n",
       "        text-align: right;\n",
       "    }\n",
       "</style>\n",
       "<table border=\"1\" class=\"dataframe\">\n",
       "  <thead>\n",
       "    <tr style=\"text-align: right;\">\n",
       "      <th></th>\n",
       "      <th>Source Port</th>\n",
       "      <th>Destination Port</th>\n",
       "      <th>Protocol</th>\n",
       "      <th>Flow Duration</th>\n",
       "      <th>Total Fwd Packets</th>\n",
       "      <th>Total Backward Packets</th>\n",
       "      <th>Total Length of Fwd Packets</th>\n",
       "      <th>Total Length of Bwd Packets</th>\n",
       "      <th>Fwd Packet Length Max</th>\n",
       "      <th>Fwd Packet Length Min</th>\n",
       "      <th>...</th>\n",
       "      <th>Active Mean</th>\n",
       "      <th>Active Std</th>\n",
       "      <th>Active Max</th>\n",
       "      <th>Active Min</th>\n",
       "      <th>Idle Mean</th>\n",
       "      <th>Idle Std</th>\n",
       "      <th>Idle Max</th>\n",
       "      <th>Idle Min</th>\n",
       "      <th>Inbound</th>\n",
       "      <th>Label</th>\n",
       "    </tr>\n",
       "  </thead>\n",
       "  <tbody>\n",
       "  </tbody>\n",
       "</table>\n",
       "<p>0 rows × 70 columns</p>\n",
       "</div>"
      ],
      "text/plain": [
       "Empty DataFrame\n",
       "Columns: [ Source Port,  Destination Port,  Protocol,  Flow Duration,  Total Fwd Packets,  Total Backward Packets, Total Length of Fwd Packets,  Total Length of Bwd Packets,  Fwd Packet Length Max,  Fwd Packet Length Min,  Fwd Packet Length Mean,  Fwd Packet Length Std, Bwd Packet Length Max,  Bwd Packet Length Min,  Bwd Packet Length Mean,  Bwd Packet Length Std, Flow Bytes/s,  Flow Packets/s,  Flow IAT Mean,  Flow IAT Std,  Flow IAT Max,  Flow IAT Min, Fwd IAT Total,  Fwd IAT Mean,  Fwd IAT Std,  Fwd IAT Max,  Fwd IAT Min, Bwd IAT Total,  Bwd IAT Mean,  Bwd IAT Std,  Bwd IAT Max,  Bwd IAT Min, Fwd PSH Flags,  Fwd Header Length,  Bwd Header Length, Fwd Packets/s,  Bwd Packets/s,  Min Packet Length,  Max Packet Length,  Packet Length Mean,  Packet Length Std,  Packet Length Variance,  SYN Flag Count,  RST Flag Count,  ACK Flag Count,  URG Flag Count,  CWE Flag Count,  Down/Up Ratio,  Average Packet Size,  Avg Fwd Segment Size,  Avg Bwd Segment Size,  Fwd Header Length.1, Subflow Fwd Packets,  Subflow Fwd Bytes,  Subflow Bwd Packets,  Subflow Bwd Bytes, Init_Win_bytes_forward,  Init_Win_bytes_backward,  act_data_pkt_fwd,  min_seg_size_forward, Active Mean,  Active Std,  Active Max,  Active Min, Idle Mean,  Idle Std,  Idle Max,  Idle Min,  Inbound,  Label]\n",
       "Index: []\n",
       "\n",
       "[0 rows x 70 columns]"
      ]
     },
     "execution_count": 25,
     "metadata": {},
     "output_type": "execute_result"
    }
   ],
   "source": [
    "df[df.isnull().T.any()]"
   ]
  },
  {
   "cell_type": "code",
   "execution_count": 26,
   "id": "e97c396b",
   "metadata": {},
   "outputs": [
    {
     "data": {
      "text/plain": [
       "(20364397, 70)"
      ]
     },
     "execution_count": 26,
     "metadata": {},
     "output_type": "execute_result"
    }
   ],
   "source": [
    "df.shape"
   ]
  },
  {
   "cell_type": "code",
   "execution_count": null,
   "id": "44c9e0e8",
   "metadata": {},
   "outputs": [],
   "source": []
  },
  {
   "cell_type": "code",
   "execution_count": 27,
   "id": "494ada51",
   "metadata": {},
   "outputs": [
    {
     "name": "stderr",
     "output_type": "stream",
     "text": [
      "/tmp/ipykernel_936261/933249601.py:1: SettingWithCopyWarning: \n",
      "A value is trying to be set on a copy of a slice from a DataFrame\n",
      "\n",
      "See the caveats in the documentation: https://pandas.pydata.org/pandas-docs/stable/user_guide/indexing.html#returning-a-view-versus-a-copy\n",
      "  df[' Label'].loc[df[' Label'] == 'BENIGN' ] =0\n",
      "/tmp/ipykernel_936261/933249601.py:2: SettingWithCopyWarning: \n",
      "A value is trying to be set on a copy of a slice from a DataFrame\n",
      "\n",
      "See the caveats in the documentation: https://pandas.pydata.org/pandas-docs/stable/user_guide/indexing.html#returning-a-view-versus-a-copy\n",
      "  df[' Label'].loc[df[' Label'] == 'MSSQL' ] =1\n",
      "/tmp/ipykernel_936261/933249601.py:3: SettingWithCopyWarning: \n",
      "A value is trying to be set on a copy of a slice from a DataFrame\n",
      "\n",
      "See the caveats in the documentation: https://pandas.pydata.org/pandas-docs/stable/user_guide/indexing.html#returning-a-view-versus-a-copy\n",
      "  df[' Label'].loc[df[' Label'] == 'Syn' ] =2\n",
      "/tmp/ipykernel_936261/933249601.py:4: SettingWithCopyWarning: \n",
      "A value is trying to be set on a copy of a slice from a DataFrame\n",
      "\n",
      "See the caveats in the documentation: https://pandas.pydata.org/pandas-docs/stable/user_guide/indexing.html#returning-a-view-versus-a-copy\n",
      "  df[' Label'].loc[df[' Label'] == 'LDAP' ] =3\n",
      "/tmp/ipykernel_936261/933249601.py:5: SettingWithCopyWarning: \n",
      "A value is trying to be set on a copy of a slice from a DataFrame\n",
      "\n",
      "See the caveats in the documentation: https://pandas.pydata.org/pandas-docs/stable/user_guide/indexing.html#returning-a-view-versus-a-copy\n",
      "  df[' Label'].loc[df[' Label'] == 'NetBIOS' ] = 4\n",
      "/tmp/ipykernel_936261/933249601.py:6: SettingWithCopyWarning: \n",
      "A value is trying to be set on a copy of a slice from a DataFrame\n",
      "\n",
      "See the caveats in the documentation: https://pandas.pydata.org/pandas-docs/stable/user_guide/indexing.html#returning-a-view-versus-a-copy\n",
      "  df[' Label'].loc[df[' Label'] == 'UDP' ] =5\n",
      "/tmp/ipykernel_936261/933249601.py:7: SettingWithCopyWarning: \n",
      "A value is trying to be set on a copy of a slice from a DataFrame\n",
      "\n",
      "See the caveats in the documentation: https://pandas.pydata.org/pandas-docs/stable/user_guide/indexing.html#returning-a-view-versus-a-copy\n",
      "  df[' Label'].loc[df[' Label'] == 'UDPLag' ] = 6\n",
      "/tmp/ipykernel_936261/933249601.py:8: SettingWithCopyWarning: \n",
      "A value is trying to be set on a copy of a slice from a DataFrame\n",
      "\n",
      "See the caveats in the documentation: https://pandas.pydata.org/pandas-docs/stable/user_guide/indexing.html#returning-a-view-versus-a-copy\n",
      "  df[' Label'].loc[df[' Label'] == 'Portmap' ] = 7\n"
     ]
    }
   ],
   "source": [
    "\n",
    "\n",
    "df[' Label'].loc[df[' Label'] == 'BENIGN' ] =0\n",
    "df[' Label'].loc[df[' Label'] == 'MSSQL' ] =1\n",
    "df[' Label'].loc[df[' Label'] == 'Syn' ] =2\n",
    "df[' Label'].loc[df[' Label'] == 'LDAP' ] =3\n",
    "df[' Label'].loc[df[' Label'] == 'NetBIOS' ] = 4\n",
    "df[' Label'].loc[df[' Label'] == 'UDP' ] =5\n",
    "df[' Label'].loc[df[' Label'] == 'UDPLag' ] = 6\n",
    "df[' Label'].loc[df[' Label'] == 'Portmap' ] = 7"
   ]
  },
  {
   "cell_type": "code",
   "execution_count": 28,
   "id": "4d42f0d6",
   "metadata": {},
   "outputs": [
    {
     "data": {
      "text/html": [
       "<div>\n",
       "<style scoped>\n",
       "    .dataframe tbody tr th:only-of-type {\n",
       "        vertical-align: middle;\n",
       "    }\n",
       "\n",
       "    .dataframe tbody tr th {\n",
       "        vertical-align: top;\n",
       "    }\n",
       "\n",
       "    .dataframe thead th {\n",
       "        text-align: right;\n",
       "    }\n",
       "</style>\n",
       "<table border=\"1\" class=\"dataframe\">\n",
       "  <thead>\n",
       "    <tr style=\"text-align: right;\">\n",
       "      <th></th>\n",
       "      <th>Source Port</th>\n",
       "      <th>Destination Port</th>\n",
       "      <th>Protocol</th>\n",
       "      <th>Flow Duration</th>\n",
       "      <th>Total Fwd Packets</th>\n",
       "      <th>Total Backward Packets</th>\n",
       "      <th>Total Length of Fwd Packets</th>\n",
       "      <th>Total Length of Bwd Packets</th>\n",
       "      <th>Fwd Packet Length Max</th>\n",
       "      <th>Fwd Packet Length Min</th>\n",
       "      <th>...</th>\n",
       "      <th>Active Mean</th>\n",
       "      <th>Active Std</th>\n",
       "      <th>Active Max</th>\n",
       "      <th>Active Min</th>\n",
       "      <th>Idle Mean</th>\n",
       "      <th>Idle Std</th>\n",
       "      <th>Idle Max</th>\n",
       "      <th>Idle Min</th>\n",
       "      <th>Inbound</th>\n",
       "      <th>Label</th>\n",
       "    </tr>\n",
       "  </thead>\n",
       "  <tbody>\n",
       "    <tr>\n",
       "      <th>0</th>\n",
       "      <td>9429</td>\n",
       "      <td>9429</td>\n",
       "      <td>6</td>\n",
       "      <td>36063894</td>\n",
       "      <td>7</td>\n",
       "      <td>2</td>\n",
       "      <td>42.0</td>\n",
       "      <td>12.0</td>\n",
       "      <td>6.0</td>\n",
       "      <td>6.0</td>\n",
       "      <td>...</td>\n",
       "      <td>18.0</td>\n",
       "      <td>29.444864</td>\n",
       "      <td>52.0</td>\n",
       "      <td>1.0</td>\n",
       "      <td>1.202128e+07</td>\n",
       "      <td>6.253623e+06</td>\n",
       "      <td>18628035.0</td>\n",
       "      <td>6193840.0</td>\n",
       "      <td>1</td>\n",
       "      <td>2</td>\n",
       "    </tr>\n",
       "    <tr>\n",
       "      <th>1</th>\n",
       "      <td>60224</td>\n",
       "      <td>60224</td>\n",
       "      <td>6</td>\n",
       "      <td>44851366</td>\n",
       "      <td>8</td>\n",
       "      <td>4</td>\n",
       "      <td>48.0</td>\n",
       "      <td>24.0</td>\n",
       "      <td>6.0</td>\n",
       "      <td>6.0</td>\n",
       "      <td>...</td>\n",
       "      <td>1.0</td>\n",
       "      <td>0.000000</td>\n",
       "      <td>1.0</td>\n",
       "      <td>1.0</td>\n",
       "      <td>2.066268e+07</td>\n",
       "      <td>1.169783e+07</td>\n",
       "      <td>28934293.0</td>\n",
       "      <td>12391060.0</td>\n",
       "      <td>1</td>\n",
       "      <td>2</td>\n",
       "    </tr>\n",
       "    <tr>\n",
       "      <th>2</th>\n",
       "      <td>11746</td>\n",
       "      <td>33827</td>\n",
       "      <td>6</td>\n",
       "      <td>1</td>\n",
       "      <td>2</td>\n",
       "      <td>0</td>\n",
       "      <td>12.0</td>\n",
       "      <td>0.0</td>\n",
       "      <td>6.0</td>\n",
       "      <td>6.0</td>\n",
       "      <td>...</td>\n",
       "      <td>0.0</td>\n",
       "      <td>0.000000</td>\n",
       "      <td>0.0</td>\n",
       "      <td>0.0</td>\n",
       "      <td>0.000000e+00</td>\n",
       "      <td>0.000000e+00</td>\n",
       "      <td>0.0</td>\n",
       "      <td>0.0</td>\n",
       "      <td>0</td>\n",
       "      <td>2</td>\n",
       "    </tr>\n",
       "    <tr>\n",
       "      <th>3</th>\n",
       "      <td>33828</td>\n",
       "      <td>1431</td>\n",
       "      <td>6</td>\n",
       "      <td>0</td>\n",
       "      <td>2</td>\n",
       "      <td>0</td>\n",
       "      <td>12.0</td>\n",
       "      <td>0.0</td>\n",
       "      <td>6.0</td>\n",
       "      <td>6.0</td>\n",
       "      <td>...</td>\n",
       "      <td>0.0</td>\n",
       "      <td>0.000000</td>\n",
       "      <td>0.0</td>\n",
       "      <td>0.0</td>\n",
       "      <td>0.000000e+00</td>\n",
       "      <td>0.000000e+00</td>\n",
       "      <td>0.0</td>\n",
       "      <td>0.0</td>\n",
       "      <td>1</td>\n",
       "      <td>2</td>\n",
       "    </tr>\n",
       "    <tr>\n",
       "      <th>4</th>\n",
       "      <td>5311</td>\n",
       "      <td>5311</td>\n",
       "      <td>6</td>\n",
       "      <td>35731470</td>\n",
       "      <td>8</td>\n",
       "      <td>2</td>\n",
       "      <td>48.0</td>\n",
       "      <td>12.0</td>\n",
       "      <td>6.0</td>\n",
       "      <td>6.0</td>\n",
       "      <td>...</td>\n",
       "      <td>24.5</td>\n",
       "      <td>33.234019</td>\n",
       "      <td>48.0</td>\n",
       "      <td>1.0</td>\n",
       "      <td>1.191047e+07</td>\n",
       "      <td>1.849493e+06</td>\n",
       "      <td>13693985.0</td>\n",
       "      <td>10001398.0</td>\n",
       "      <td>1</td>\n",
       "      <td>2</td>\n",
       "    </tr>\n",
       "    <tr>\n",
       "      <th>...</th>\n",
       "      <td>...</td>\n",
       "      <td>...</td>\n",
       "      <td>...</td>\n",
       "      <td>...</td>\n",
       "      <td>...</td>\n",
       "      <td>...</td>\n",
       "      <td>...</td>\n",
       "      <td>...</td>\n",
       "      <td>...</td>\n",
       "      <td>...</td>\n",
       "      <td>...</td>\n",
       "      <td>...</td>\n",
       "      <td>...</td>\n",
       "      <td>...</td>\n",
       "      <td>...</td>\n",
       "      <td>...</td>\n",
       "      <td>...</td>\n",
       "      <td>...</td>\n",
       "      <td>...</td>\n",
       "      <td>...</td>\n",
       "      <td>...</td>\n",
       "    </tr>\n",
       "    <tr>\n",
       "      <th>20364520</th>\n",
       "      <td>865</td>\n",
       "      <td>13711</td>\n",
       "      <td>17</td>\n",
       "      <td>1</td>\n",
       "      <td>2</td>\n",
       "      <td>0</td>\n",
       "      <td>458.0</td>\n",
       "      <td>0.0</td>\n",
       "      <td>229.0</td>\n",
       "      <td>229.0</td>\n",
       "      <td>...</td>\n",
       "      <td>0.0</td>\n",
       "      <td>0.000000</td>\n",
       "      <td>0.0</td>\n",
       "      <td>0.0</td>\n",
       "      <td>0.000000e+00</td>\n",
       "      <td>0.000000e+00</td>\n",
       "      <td>0.0</td>\n",
       "      <td>0.0</td>\n",
       "      <td>1</td>\n",
       "      <td>4</td>\n",
       "    </tr>\n",
       "    <tr>\n",
       "      <th>20364521</th>\n",
       "      <td>866</td>\n",
       "      <td>65260</td>\n",
       "      <td>17</td>\n",
       "      <td>48</td>\n",
       "      <td>2</td>\n",
       "      <td>0</td>\n",
       "      <td>458.0</td>\n",
       "      <td>0.0</td>\n",
       "      <td>229.0</td>\n",
       "      <td>229.0</td>\n",
       "      <td>...</td>\n",
       "      <td>0.0</td>\n",
       "      <td>0.000000</td>\n",
       "      <td>0.0</td>\n",
       "      <td>0.0</td>\n",
       "      <td>0.000000e+00</td>\n",
       "      <td>0.000000e+00</td>\n",
       "      <td>0.0</td>\n",
       "      <td>0.0</td>\n",
       "      <td>1</td>\n",
       "      <td>4</td>\n",
       "    </tr>\n",
       "    <tr>\n",
       "      <th>20364522</th>\n",
       "      <td>867</td>\n",
       "      <td>48342</td>\n",
       "      <td>17</td>\n",
       "      <td>1</td>\n",
       "      <td>2</td>\n",
       "      <td>0</td>\n",
       "      <td>458.0</td>\n",
       "      <td>0.0</td>\n",
       "      <td>229.0</td>\n",
       "      <td>229.0</td>\n",
       "      <td>...</td>\n",
       "      <td>0.0</td>\n",
       "      <td>0.000000</td>\n",
       "      <td>0.0</td>\n",
       "      <td>0.0</td>\n",
       "      <td>0.000000e+00</td>\n",
       "      <td>0.000000e+00</td>\n",
       "      <td>0.0</td>\n",
       "      <td>0.0</td>\n",
       "      <td>1</td>\n",
       "      <td>4</td>\n",
       "    </tr>\n",
       "    <tr>\n",
       "      <th>20364523</th>\n",
       "      <td>868</td>\n",
       "      <td>64931</td>\n",
       "      <td>17</td>\n",
       "      <td>1</td>\n",
       "      <td>2</td>\n",
       "      <td>0</td>\n",
       "      <td>458.0</td>\n",
       "      <td>0.0</td>\n",
       "      <td>229.0</td>\n",
       "      <td>229.0</td>\n",
       "      <td>...</td>\n",
       "      <td>0.0</td>\n",
       "      <td>0.000000</td>\n",
       "      <td>0.0</td>\n",
       "      <td>0.0</td>\n",
       "      <td>0.000000e+00</td>\n",
       "      <td>0.000000e+00</td>\n",
       "      <td>0.0</td>\n",
       "      <td>0.0</td>\n",
       "      <td>1</td>\n",
       "      <td>4</td>\n",
       "    </tr>\n",
       "    <tr>\n",
       "      <th>20364524</th>\n",
       "      <td>869</td>\n",
       "      <td>38749</td>\n",
       "      <td>17</td>\n",
       "      <td>48</td>\n",
       "      <td>2</td>\n",
       "      <td>0</td>\n",
       "      <td>458.0</td>\n",
       "      <td>0.0</td>\n",
       "      <td>229.0</td>\n",
       "      <td>229.0</td>\n",
       "      <td>...</td>\n",
       "      <td>0.0</td>\n",
       "      <td>0.000000</td>\n",
       "      <td>0.0</td>\n",
       "      <td>0.0</td>\n",
       "      <td>0.000000e+00</td>\n",
       "      <td>0.000000e+00</td>\n",
       "      <td>0.0</td>\n",
       "      <td>0.0</td>\n",
       "      <td>1</td>\n",
       "      <td>4</td>\n",
       "    </tr>\n",
       "  </tbody>\n",
       "</table>\n",
       "<p>20364397 rows × 70 columns</p>\n",
       "</div>"
      ],
      "text/plain": [
       "           Source Port   Destination Port   Protocol   Flow Duration  \\\n",
       "0                 9429               9429          6        36063894   \n",
       "1                60224              60224          6        44851366   \n",
       "2                11746              33827          6               1   \n",
       "3                33828               1431          6               0   \n",
       "4                 5311               5311          6        35731470   \n",
       "...                ...                ...        ...             ...   \n",
       "20364520           865              13711         17               1   \n",
       "20364521           866              65260         17              48   \n",
       "20364522           867              48342         17               1   \n",
       "20364523           868              64931         17               1   \n",
       "20364524           869              38749         17              48   \n",
       "\n",
       "           Total Fwd Packets   Total Backward Packets  \\\n",
       "0                          7                        2   \n",
       "1                          8                        4   \n",
       "2                          2                        0   \n",
       "3                          2                        0   \n",
       "4                          8                        2   \n",
       "...                      ...                      ...   \n",
       "20364520                   2                        0   \n",
       "20364521                   2                        0   \n",
       "20364522                   2                        0   \n",
       "20364523                   2                        0   \n",
       "20364524                   2                        0   \n",
       "\n",
       "          Total Length of Fwd Packets   Total Length of Bwd Packets  \\\n",
       "0                                42.0                          12.0   \n",
       "1                                48.0                          24.0   \n",
       "2                                12.0                           0.0   \n",
       "3                                12.0                           0.0   \n",
       "4                                48.0                          12.0   \n",
       "...                               ...                           ...   \n",
       "20364520                        458.0                           0.0   \n",
       "20364521                        458.0                           0.0   \n",
       "20364522                        458.0                           0.0   \n",
       "20364523                        458.0                           0.0   \n",
       "20364524                        458.0                           0.0   \n",
       "\n",
       "           Fwd Packet Length Max   Fwd Packet Length Min  ...  Active Mean  \\\n",
       "0                            6.0                     6.0  ...         18.0   \n",
       "1                            6.0                     6.0  ...          1.0   \n",
       "2                            6.0                     6.0  ...          0.0   \n",
       "3                            6.0                     6.0  ...          0.0   \n",
       "4                            6.0                     6.0  ...         24.5   \n",
       "...                          ...                     ...  ...          ...   \n",
       "20364520                   229.0                   229.0  ...          0.0   \n",
       "20364521                   229.0                   229.0  ...          0.0   \n",
       "20364522                   229.0                   229.0  ...          0.0   \n",
       "20364523                   229.0                   229.0  ...          0.0   \n",
       "20364524                   229.0                   229.0  ...          0.0   \n",
       "\n",
       "           Active Std   Active Max   Active Min     Idle Mean      Idle Std  \\\n",
       "0           29.444864         52.0          1.0  1.202128e+07  6.253623e+06   \n",
       "1            0.000000          1.0          1.0  2.066268e+07  1.169783e+07   \n",
       "2            0.000000          0.0          0.0  0.000000e+00  0.000000e+00   \n",
       "3            0.000000          0.0          0.0  0.000000e+00  0.000000e+00   \n",
       "4           33.234019         48.0          1.0  1.191047e+07  1.849493e+06   \n",
       "...               ...          ...          ...           ...           ...   \n",
       "20364520     0.000000          0.0          0.0  0.000000e+00  0.000000e+00   \n",
       "20364521     0.000000          0.0          0.0  0.000000e+00  0.000000e+00   \n",
       "20364522     0.000000          0.0          0.0  0.000000e+00  0.000000e+00   \n",
       "20364523     0.000000          0.0          0.0  0.000000e+00  0.000000e+00   \n",
       "20364524     0.000000          0.0          0.0  0.000000e+00  0.000000e+00   \n",
       "\n",
       "            Idle Max    Idle Min   Inbound   Label  \n",
       "0         18628035.0   6193840.0         1       2  \n",
       "1         28934293.0  12391060.0         1       2  \n",
       "2                0.0         0.0         0       2  \n",
       "3                0.0         0.0         1       2  \n",
       "4         13693985.0  10001398.0         1       2  \n",
       "...              ...         ...       ...     ...  \n",
       "20364520         0.0         0.0         1       4  \n",
       "20364521         0.0         0.0         1       4  \n",
       "20364522         0.0         0.0         1       4  \n",
       "20364523         0.0         0.0         1       4  \n",
       "20364524         0.0         0.0         1       4  \n",
       "\n",
       "[20364397 rows x 70 columns]"
      ]
     },
     "execution_count": 28,
     "metadata": {},
     "output_type": "execute_result"
    }
   ],
   "source": [
    "df"
   ]
  },
  {
   "cell_type": "code",
   "execution_count": 29,
   "id": "fd9d70a9",
   "metadata": {},
   "outputs": [],
   "source": [
    "#avoid can not drop infinity below\n",
    "df[' Label'] =df[' Label'].astype(\"int64\")"
   ]
  },
  {
   "cell_type": "markdown",
   "id": "4d163291",
   "metadata": {},
   "source": [
    "### drop inf"
   ]
  },
  {
   "cell_type": "code",
   "execution_count": 30,
   "id": "75e649c3",
   "metadata": {},
   "outputs": [
    {
     "data": {
      "text/plain": [
       " Source Port            int64\n",
       " Destination Port       int64\n",
       " Protocol               int64\n",
       " Flow Duration          int64\n",
       " Total Fwd Packets      int64\n",
       "                       ...   \n",
       " Idle Std             float64\n",
       " Idle Max             float64\n",
       " Idle Min             float64\n",
       " Inbound                int64\n",
       " Label                  int64\n",
       "Length: 70, dtype: object"
      ]
     },
     "execution_count": 30,
     "metadata": {},
     "output_type": "execute_result"
    }
   ],
   "source": [
    "df.dtypes"
   ]
  },
  {
   "cell_type": "code",
   "execution_count": 66,
   "id": "cd38fb00",
   "metadata": {},
   "outputs": [],
   "source": [
    "df_inf = df[np.isfinite(df).all(1)]"
   ]
  },
  {
   "cell_type": "code",
   "execution_count": 67,
   "id": "117b568b",
   "metadata": {},
   "outputs": [
    {
     "data": {
      "text/html": [
       "<div>\n",
       "<style scoped>\n",
       "    .dataframe tbody tr th:only-of-type {\n",
       "        vertical-align: middle;\n",
       "    }\n",
       "\n",
       "    .dataframe tbody tr th {\n",
       "        vertical-align: top;\n",
       "    }\n",
       "\n",
       "    .dataframe thead th {\n",
       "        text-align: right;\n",
       "    }\n",
       "</style>\n",
       "<table border=\"1\" class=\"dataframe\">\n",
       "  <thead>\n",
       "    <tr style=\"text-align: right;\">\n",
       "      <th></th>\n",
       "      <th>Source Port</th>\n",
       "      <th>Destination Port</th>\n",
       "      <th>Protocol</th>\n",
       "      <th>Flow Duration</th>\n",
       "      <th>Total Fwd Packets</th>\n",
       "      <th>Total Backward Packets</th>\n",
       "      <th>Total Length of Fwd Packets</th>\n",
       "      <th>Total Length of Bwd Packets</th>\n",
       "      <th>Fwd Packet Length Max</th>\n",
       "      <th>Fwd Packet Length Min</th>\n",
       "      <th>...</th>\n",
       "      <th>Active Mean</th>\n",
       "      <th>Active Std</th>\n",
       "      <th>Active Max</th>\n",
       "      <th>Active Min</th>\n",
       "      <th>Idle Mean</th>\n",
       "      <th>Idle Std</th>\n",
       "      <th>Idle Max</th>\n",
       "      <th>Idle Min</th>\n",
       "      <th>Inbound</th>\n",
       "      <th>Label</th>\n",
       "    </tr>\n",
       "  </thead>\n",
       "  <tbody>\n",
       "    <tr>\n",
       "      <th>0</th>\n",
       "      <td>9429</td>\n",
       "      <td>9429</td>\n",
       "      <td>6</td>\n",
       "      <td>36063894</td>\n",
       "      <td>7</td>\n",
       "      <td>2</td>\n",
       "      <td>42.0</td>\n",
       "      <td>12.0</td>\n",
       "      <td>6.0</td>\n",
       "      <td>6.0</td>\n",
       "      <td>...</td>\n",
       "      <td>18.0</td>\n",
       "      <td>29.444864</td>\n",
       "      <td>52.0</td>\n",
       "      <td>1.0</td>\n",
       "      <td>1.202128e+07</td>\n",
       "      <td>6.253623e+06</td>\n",
       "      <td>18628035.0</td>\n",
       "      <td>6193840.0</td>\n",
       "      <td>1</td>\n",
       "      <td>2</td>\n",
       "    </tr>\n",
       "    <tr>\n",
       "      <th>1</th>\n",
       "      <td>60224</td>\n",
       "      <td>60224</td>\n",
       "      <td>6</td>\n",
       "      <td>44851366</td>\n",
       "      <td>8</td>\n",
       "      <td>4</td>\n",
       "      <td>48.0</td>\n",
       "      <td>24.0</td>\n",
       "      <td>6.0</td>\n",
       "      <td>6.0</td>\n",
       "      <td>...</td>\n",
       "      <td>1.0</td>\n",
       "      <td>0.000000</td>\n",
       "      <td>1.0</td>\n",
       "      <td>1.0</td>\n",
       "      <td>2.066268e+07</td>\n",
       "      <td>1.169783e+07</td>\n",
       "      <td>28934293.0</td>\n",
       "      <td>12391060.0</td>\n",
       "      <td>1</td>\n",
       "      <td>2</td>\n",
       "    </tr>\n",
       "    <tr>\n",
       "      <th>2</th>\n",
       "      <td>11746</td>\n",
       "      <td>33827</td>\n",
       "      <td>6</td>\n",
       "      <td>1</td>\n",
       "      <td>2</td>\n",
       "      <td>0</td>\n",
       "      <td>12.0</td>\n",
       "      <td>0.0</td>\n",
       "      <td>6.0</td>\n",
       "      <td>6.0</td>\n",
       "      <td>...</td>\n",
       "      <td>0.0</td>\n",
       "      <td>0.000000</td>\n",
       "      <td>0.0</td>\n",
       "      <td>0.0</td>\n",
       "      <td>0.000000e+00</td>\n",
       "      <td>0.000000e+00</td>\n",
       "      <td>0.0</td>\n",
       "      <td>0.0</td>\n",
       "      <td>0</td>\n",
       "      <td>2</td>\n",
       "    </tr>\n",
       "    <tr>\n",
       "      <th>4</th>\n",
       "      <td>5311</td>\n",
       "      <td>5311</td>\n",
       "      <td>6</td>\n",
       "      <td>35731470</td>\n",
       "      <td>8</td>\n",
       "      <td>2</td>\n",
       "      <td>48.0</td>\n",
       "      <td>12.0</td>\n",
       "      <td>6.0</td>\n",
       "      <td>6.0</td>\n",
       "      <td>...</td>\n",
       "      <td>24.5</td>\n",
       "      <td>33.234019</td>\n",
       "      <td>48.0</td>\n",
       "      <td>1.0</td>\n",
       "      <td>1.191047e+07</td>\n",
       "      <td>1.849493e+06</td>\n",
       "      <td>13693985.0</td>\n",
       "      <td>10001398.0</td>\n",
       "      <td>1</td>\n",
       "      <td>2</td>\n",
       "    </tr>\n",
       "    <tr>\n",
       "      <th>5</th>\n",
       "      <td>33829</td>\n",
       "      <td>32787</td>\n",
       "      <td>6</td>\n",
       "      <td>101</td>\n",
       "      <td>2</td>\n",
       "      <td>2</td>\n",
       "      <td>12.0</td>\n",
       "      <td>12.0</td>\n",
       "      <td>6.0</td>\n",
       "      <td>6.0</td>\n",
       "      <td>...</td>\n",
       "      <td>0.0</td>\n",
       "      <td>0.000000</td>\n",
       "      <td>0.0</td>\n",
       "      <td>0.0</td>\n",
       "      <td>0.000000e+00</td>\n",
       "      <td>0.000000e+00</td>\n",
       "      <td>0.0</td>\n",
       "      <td>0.0</td>\n",
       "      <td>1</td>\n",
       "      <td>2</td>\n",
       "    </tr>\n",
       "    <tr>\n",
       "      <th>...</th>\n",
       "      <td>...</td>\n",
       "      <td>...</td>\n",
       "      <td>...</td>\n",
       "      <td>...</td>\n",
       "      <td>...</td>\n",
       "      <td>...</td>\n",
       "      <td>...</td>\n",
       "      <td>...</td>\n",
       "      <td>...</td>\n",
       "      <td>...</td>\n",
       "      <td>...</td>\n",
       "      <td>...</td>\n",
       "      <td>...</td>\n",
       "      <td>...</td>\n",
       "      <td>...</td>\n",
       "      <td>...</td>\n",
       "      <td>...</td>\n",
       "      <td>...</td>\n",
       "      <td>...</td>\n",
       "      <td>...</td>\n",
       "      <td>...</td>\n",
       "    </tr>\n",
       "    <tr>\n",
       "      <th>20364520</th>\n",
       "      <td>865</td>\n",
       "      <td>13711</td>\n",
       "      <td>17</td>\n",
       "      <td>1</td>\n",
       "      <td>2</td>\n",
       "      <td>0</td>\n",
       "      <td>458.0</td>\n",
       "      <td>0.0</td>\n",
       "      <td>229.0</td>\n",
       "      <td>229.0</td>\n",
       "      <td>...</td>\n",
       "      <td>0.0</td>\n",
       "      <td>0.000000</td>\n",
       "      <td>0.0</td>\n",
       "      <td>0.0</td>\n",
       "      <td>0.000000e+00</td>\n",
       "      <td>0.000000e+00</td>\n",
       "      <td>0.0</td>\n",
       "      <td>0.0</td>\n",
       "      <td>1</td>\n",
       "      <td>4</td>\n",
       "    </tr>\n",
       "    <tr>\n",
       "      <th>20364521</th>\n",
       "      <td>866</td>\n",
       "      <td>65260</td>\n",
       "      <td>17</td>\n",
       "      <td>48</td>\n",
       "      <td>2</td>\n",
       "      <td>0</td>\n",
       "      <td>458.0</td>\n",
       "      <td>0.0</td>\n",
       "      <td>229.0</td>\n",
       "      <td>229.0</td>\n",
       "      <td>...</td>\n",
       "      <td>0.0</td>\n",
       "      <td>0.000000</td>\n",
       "      <td>0.0</td>\n",
       "      <td>0.0</td>\n",
       "      <td>0.000000e+00</td>\n",
       "      <td>0.000000e+00</td>\n",
       "      <td>0.0</td>\n",
       "      <td>0.0</td>\n",
       "      <td>1</td>\n",
       "      <td>4</td>\n",
       "    </tr>\n",
       "    <tr>\n",
       "      <th>20364522</th>\n",
       "      <td>867</td>\n",
       "      <td>48342</td>\n",
       "      <td>17</td>\n",
       "      <td>1</td>\n",
       "      <td>2</td>\n",
       "      <td>0</td>\n",
       "      <td>458.0</td>\n",
       "      <td>0.0</td>\n",
       "      <td>229.0</td>\n",
       "      <td>229.0</td>\n",
       "      <td>...</td>\n",
       "      <td>0.0</td>\n",
       "      <td>0.000000</td>\n",
       "      <td>0.0</td>\n",
       "      <td>0.0</td>\n",
       "      <td>0.000000e+00</td>\n",
       "      <td>0.000000e+00</td>\n",
       "      <td>0.0</td>\n",
       "      <td>0.0</td>\n",
       "      <td>1</td>\n",
       "      <td>4</td>\n",
       "    </tr>\n",
       "    <tr>\n",
       "      <th>20364523</th>\n",
       "      <td>868</td>\n",
       "      <td>64931</td>\n",
       "      <td>17</td>\n",
       "      <td>1</td>\n",
       "      <td>2</td>\n",
       "      <td>0</td>\n",
       "      <td>458.0</td>\n",
       "      <td>0.0</td>\n",
       "      <td>229.0</td>\n",
       "      <td>229.0</td>\n",
       "      <td>...</td>\n",
       "      <td>0.0</td>\n",
       "      <td>0.000000</td>\n",
       "      <td>0.0</td>\n",
       "      <td>0.0</td>\n",
       "      <td>0.000000e+00</td>\n",
       "      <td>0.000000e+00</td>\n",
       "      <td>0.0</td>\n",
       "      <td>0.0</td>\n",
       "      <td>1</td>\n",
       "      <td>4</td>\n",
       "    </tr>\n",
       "    <tr>\n",
       "      <th>20364524</th>\n",
       "      <td>869</td>\n",
       "      <td>38749</td>\n",
       "      <td>17</td>\n",
       "      <td>48</td>\n",
       "      <td>2</td>\n",
       "      <td>0</td>\n",
       "      <td>458.0</td>\n",
       "      <td>0.0</td>\n",
       "      <td>229.0</td>\n",
       "      <td>229.0</td>\n",
       "      <td>...</td>\n",
       "      <td>0.0</td>\n",
       "      <td>0.000000</td>\n",
       "      <td>0.0</td>\n",
       "      <td>0.0</td>\n",
       "      <td>0.000000e+00</td>\n",
       "      <td>0.000000e+00</td>\n",
       "      <td>0.0</td>\n",
       "      <td>0.0</td>\n",
       "      <td>1</td>\n",
       "      <td>4</td>\n",
       "    </tr>\n",
       "  </tbody>\n",
       "</table>\n",
       "<p>19557011 rows × 70 columns</p>\n",
       "</div>"
      ],
      "text/plain": [
       "           Source Port   Destination Port   Protocol   Flow Duration  \\\n",
       "0                 9429               9429          6        36063894   \n",
       "1                60224              60224          6        44851366   \n",
       "2                11746              33827          6               1   \n",
       "4                 5311               5311          6        35731470   \n",
       "5                33829              32787          6             101   \n",
       "...                ...                ...        ...             ...   \n",
       "20364520           865              13711         17               1   \n",
       "20364521           866              65260         17              48   \n",
       "20364522           867              48342         17               1   \n",
       "20364523           868              64931         17               1   \n",
       "20364524           869              38749         17              48   \n",
       "\n",
       "           Total Fwd Packets   Total Backward Packets  \\\n",
       "0                          7                        2   \n",
       "1                          8                        4   \n",
       "2                          2                        0   \n",
       "4                          8                        2   \n",
       "5                          2                        2   \n",
       "...                      ...                      ...   \n",
       "20364520                   2                        0   \n",
       "20364521                   2                        0   \n",
       "20364522                   2                        0   \n",
       "20364523                   2                        0   \n",
       "20364524                   2                        0   \n",
       "\n",
       "          Total Length of Fwd Packets   Total Length of Bwd Packets  \\\n",
       "0                                42.0                          12.0   \n",
       "1                                48.0                          24.0   \n",
       "2                                12.0                           0.0   \n",
       "4                                48.0                          12.0   \n",
       "5                                12.0                          12.0   \n",
       "...                               ...                           ...   \n",
       "20364520                        458.0                           0.0   \n",
       "20364521                        458.0                           0.0   \n",
       "20364522                        458.0                           0.0   \n",
       "20364523                        458.0                           0.0   \n",
       "20364524                        458.0                           0.0   \n",
       "\n",
       "           Fwd Packet Length Max   Fwd Packet Length Min  ...  Active Mean  \\\n",
       "0                            6.0                     6.0  ...         18.0   \n",
       "1                            6.0                     6.0  ...          1.0   \n",
       "2                            6.0                     6.0  ...          0.0   \n",
       "4                            6.0                     6.0  ...         24.5   \n",
       "5                            6.0                     6.0  ...          0.0   \n",
       "...                          ...                     ...  ...          ...   \n",
       "20364520                   229.0                   229.0  ...          0.0   \n",
       "20364521                   229.0                   229.0  ...          0.0   \n",
       "20364522                   229.0                   229.0  ...          0.0   \n",
       "20364523                   229.0                   229.0  ...          0.0   \n",
       "20364524                   229.0                   229.0  ...          0.0   \n",
       "\n",
       "           Active Std   Active Max   Active Min     Idle Mean      Idle Std  \\\n",
       "0           29.444864         52.0          1.0  1.202128e+07  6.253623e+06   \n",
       "1            0.000000          1.0          1.0  2.066268e+07  1.169783e+07   \n",
       "2            0.000000          0.0          0.0  0.000000e+00  0.000000e+00   \n",
       "4           33.234019         48.0          1.0  1.191047e+07  1.849493e+06   \n",
       "5            0.000000          0.0          0.0  0.000000e+00  0.000000e+00   \n",
       "...               ...          ...          ...           ...           ...   \n",
       "20364520     0.000000          0.0          0.0  0.000000e+00  0.000000e+00   \n",
       "20364521     0.000000          0.0          0.0  0.000000e+00  0.000000e+00   \n",
       "20364522     0.000000          0.0          0.0  0.000000e+00  0.000000e+00   \n",
       "20364523     0.000000          0.0          0.0  0.000000e+00  0.000000e+00   \n",
       "20364524     0.000000          0.0          0.0  0.000000e+00  0.000000e+00   \n",
       "\n",
       "            Idle Max    Idle Min   Inbound   Label  \n",
       "0         18628035.0   6193840.0         1       2  \n",
       "1         28934293.0  12391060.0         1       2  \n",
       "2                0.0         0.0         0       2  \n",
       "4         13693985.0  10001398.0         1       2  \n",
       "5                0.0         0.0         1       2  \n",
       "...              ...         ...       ...     ...  \n",
       "20364520         0.0         0.0         1       4  \n",
       "20364521         0.0         0.0         1       4  \n",
       "20364522         0.0         0.0         1       4  \n",
       "20364523         0.0         0.0         1       4  \n",
       "20364524         0.0         0.0         1       4  \n",
       "\n",
       "[19557011 rows x 70 columns]"
      ]
     },
     "execution_count": 67,
     "metadata": {},
     "output_type": "execute_result"
    }
   ],
   "source": [
    "df_inf"
   ]
  },
  {
   "cell_type": "code",
   "execution_count": null,
   "id": "a1327b26",
   "metadata": {},
   "outputs": [],
   "source": []
  },
  {
   "cell_type": "code",
   "execution_count": 33,
   "id": "a2b4e5c2",
   "metadata": {},
   "outputs": [
    {
     "data": {
      "text/plain": [
       "(19557011, 70)"
      ]
     },
     "execution_count": 33,
     "metadata": {},
     "output_type": "execute_result"
    }
   ],
   "source": [
    "df_inf.shape"
   ]
  },
  {
   "cell_type": "code",
   "execution_count": 34,
   "id": "baa274f8",
   "metadata": {},
   "outputs": [],
   "source": [
    "df_inf.to_csv(df_clean_path)"
   ]
  },
  {
   "cell_type": "code",
   "execution_count": null,
   "id": "0c094052",
   "metadata": {},
   "outputs": [],
   "source": []
  },
  {
   "cell_type": "code",
   "execution_count": null,
   "id": "d9ffc7c2",
   "metadata": {},
   "outputs": [],
   "source": []
  },
  {
   "cell_type": "code",
   "execution_count": 32,
   "id": "7766a738",
   "metadata": {},
   "outputs": [],
   "source": [
    "df_inf=pd.read_csv(df_clean_path)"
   ]
  },
  {
   "cell_type": "code",
   "execution_count": 33,
   "id": "8b1bc86d",
   "metadata": {},
   "outputs": [
    {
     "data": {
      "text/plain": [
       "0           2\n",
       "1           2\n",
       "2           2\n",
       "3           2\n",
       "4           2\n",
       "           ..\n",
       "19557006    4\n",
       "19557007    4\n",
       "19557008    4\n",
       "19557009    4\n",
       "19557010    4\n",
       "Name:  Label, Length: 19557011, dtype: int64"
      ]
     },
     "execution_count": 33,
     "metadata": {},
     "output_type": "execute_result"
    }
   ],
   "source": [
    "df_weights = df_inf[' Label']\n",
    "df_weights"
   ]
  },
  {
   "cell_type": "code",
   "execution_count": 34,
   "id": "98076325",
   "metadata": {},
   "outputs": [
    {
     "name": "stdout",
     "output_type": "stream",
     "text": [
      "1    5584471\n",
      "2    4558833\n",
      "5    3790298\n",
      "4    3515894\n",
      "3    1872139\n",
      "7     177197\n",
      "0      56306\n",
      "6       1873\n",
      "Name:  Label, dtype: int64\n"
     ]
    }
   ],
   "source": [
    "print(df_weights.value_counts())"
   ]
  },
  {
   "cell_type": "markdown",
   "id": "6ba1611e",
   "metadata": {},
   "source": [
    "### one hot encoding"
   ]
  },
  {
   "cell_type": "code",
   "execution_count": 8,
   "id": "54c098e7",
   "metadata": {},
   "outputs": [
    {
     "data": {
      "text/plain": [
       "'0.12.2'"
      ]
     },
     "execution_count": 8,
     "metadata": {},
     "output_type": "execute_result"
    }
   ],
   "source": [
    "sns.__version__"
   ]
  },
  {
   "cell_type": "code",
   "execution_count": 18,
   "id": "441500c4",
   "metadata": {},
   "outputs": [
    {
     "data": {
      "text/plain": [
       "1    5584471\n",
       "2    4558833\n",
       "5    3790298\n",
       "4    3515894\n",
       "3    1872139\n",
       "7     177197\n",
       "0      56306\n",
       "6       1873\n",
       "Name:  Label, dtype: int64"
      ]
     },
     "execution_count": 18,
     "metadata": {},
     "output_type": "execute_result"
    }
   ],
   "source": [
    "df_Y[' Label'].value_counts()"
   ]
  },
  {
   "cell_type": "code",
   "execution_count": 5,
   "id": "8dc9423f",
   "metadata": {},
   "outputs": [
    {
     "data": {
      "image/png": "[encoded data removed]",
      "text/plain": [
       "<Figure size 640x480 with 1 Axes>"
      ]
     },
     "metadata": {},
     "output_type": "display_data"
    }
   ],
   "source": [
    "df_Y = df_inf[[' Label']].astype(\"int64\")\n",
    "g = sns.countplot(x=' Label', data=df_Y)"
   ]
  },
  {
   "cell_type": "code",
   "execution_count": 6,
   "id": "788700b7",
   "metadata": {},
   "outputs": [],
   "source": [
    "df_Y = to_categorical(df_Y, num_classes = 8)\n"
   ]
  },
  {
   "cell_type": "code",
   "execution_count": 8,
   "id": "75efde1a",
   "metadata": {},
   "outputs": [
    {
     "name": "stdout",
     "output_type": "stream",
     "text": [
      "[[0. 0. 1. ... 0. 0. 0.]\n",
      " [0. 0. 1. ... 0. 0. 0.]\n",
      " [0. 0. 1. ... 0. 0. 0.]\n",
      " ...\n",
      " [0. 0. 0. ... 0. 0. 0.]\n",
      " [0. 0. 0. ... 0. 0. 0.]\n",
      " [0. 0. 0. ... 0. 0. 0.]]\n",
      "(19557011, 8)\n"
     ]
    }
   ],
   "source": [
    "print(df_Y)\n",
    "print(df_Y.shape)"
   ]
  },
  {
   "cell_type": "code",
   "execution_count": 7,
   "id": "292892d2",
   "metadata": {},
   "outputs": [],
   "source": [
    "# Drop 'label' column\n",
    "df_inf = df_inf.drop(labels = [' Label'],axis = 1) \n",
    "df_inf = df_inf.drop(labels = ['Unnamed: 0'],axis = 1) "
   ]
  },
  {
   "cell_type": "code",
   "execution_count": 9,
   "id": "1418f80d",
   "metadata": {},
   "outputs": [
    {
     "data": {
      "text/plain": [
       "(19557011, 69)"
      ]
     },
     "execution_count": 9,
     "metadata": {},
     "output_type": "execute_result"
    }
   ],
   "source": [
    "df_inf.shape"
   ]
  },
  {
   "cell_type": "markdown",
   "id": "30b7edbc",
   "metadata": {},
   "source": [
    "### Normalization"
   ]
  },
  {
   "cell_type": "code",
   "execution_count": 10,
   "id": "53de0f89",
   "metadata": {},
   "outputs": [],
   "source": [
    "ss = StandardScaler()"
   ]
  },
  {
   "cell_type": "code",
   "execution_count": 11,
   "id": "9af1fac5",
   "metadata": {},
   "outputs": [],
   "source": [
    "df_std =ss.fit_transform(df_inf)\n"
   ]
  },
  {
   "cell_type": "code",
   "execution_count": 12,
   "id": "86538b4c",
   "metadata": {},
   "outputs": [
    {
     "name": "stdout",
     "output_type": "stream",
     "text": [
      "[[ -0.86695627  -1.23829015  -1.80383525 ...   5.24361779   2.87424276\n",
      "    0.05197847]\n",
      " [  1.3214529    1.44802369  -1.80383525 ...   8.23282355   5.89541742\n",
      "    0.05197847]\n",
      " [ -0.76713258   0.05200781  -1.80383525 ...  -0.15921896  -0.14528414\n",
      "  -19.23873559]\n",
      " ...\n",
      " [ -1.23583429   0.81963938   0.55418223 ...  -0.15921896  -0.14528414\n",
      "    0.05197847]\n",
      " [ -1.23579121   1.69695526   0.55418223 ...  -0.15921896  -0.14528414\n",
      "    0.05197847]\n",
      " [ -1.23574813   0.31230974   0.55418223 ...  -0.15921896  -0.14528414\n",
      "    0.05197847]]\n",
      "(19557011, 69)\n"
     ]
    }
   ],
   "source": [
    "print(df_std)\n",
    "print(df_std.shape)"
   ]
  },
  {
   "cell_type": "code",
   "execution_count": null,
   "id": "843683ff",
   "metadata": {},
   "outputs": [],
   "source": []
  },
  {
   "cell_type": "code",
   "execution_count": null,
   "id": "260c7234",
   "metadata": {},
   "outputs": [],
   "source": []
  },
  {
   "cell_type": "code",
   "execution_count": null,
   "id": "26540119",
   "metadata": {},
   "outputs": [],
   "source": []
  },
  {
   "cell_type": "code",
   "execution_count": null,
   "id": "f81a1f76",
   "metadata": {},
   "outputs": [],
   "source": []
  },
  {
   "cell_type": "code",
   "execution_count": null,
   "id": "19925ab7",
   "metadata": {},
   "outputs": [],
   "source": []
  },
  {
   "cell_type": "code",
   "execution_count": null,
   "id": "e252b400",
   "metadata": {},
   "outputs": [],
   "source": []
  },
  {
   "cell_type": "code",
   "execution_count": null,
   "id": "578887af",
   "metadata": {},
   "outputs": [],
   "source": []
  },
  {
   "cell_type": "code",
   "execution_count": null,
   "id": "845d4b90",
   "metadata": {},
   "outputs": [],
   "source": []
  },
  {
   "cell_type": "markdown",
   "id": "a50d3d7f",
   "metadata": {},
   "source": [
    "## Dividing dataset"
   ]
  },
  {
   "cell_type": "code",
   "execution_count": 13,
   "id": "84374edc",
   "metadata": {},
   "outputs": [],
   "source": [
    "#divide trainset and test set\n",
    "train_X,test_X,train_y,test_y = train_test_split(df_std,df_Y,test_size=0.1,random_state=5)"
   ]
  },
  {
   "cell_type": "code",
   "execution_count": 14,
   "id": "05de3e33",
   "metadata": {},
   "outputs": [],
   "source": [
    "#divide train set and valid set\n",
    "train_X,valid_x,train_y,valid_y = train_test_split(train_X,train_y,test_size=1/9,random_state=5)"
   ]
  },
  {
   "cell_type": "code",
   "execution_count": 18,
   "id": "d2618ea9",
   "metadata": {},
   "outputs": [],
   "source": [
    "# del df, df_Y"
   ]
  },
  {
   "cell_type": "code",
   "execution_count": 15,
   "id": "99e460f4",
   "metadata": {},
   "outputs": [
    {
     "data": {
      "text/plain": [
       "array([[-1.23997027, -0.92610764,  0.55418223, ..., -0.15921896,\n",
       "        -0.14528414,  0.05197847],\n",
       "       [ 1.39150612,  0.74628733,  0.55418223, ..., -0.15921896,\n",
       "        -0.14528414,  0.05197847],\n",
       "       [-0.48062956, -1.63651721, -1.80383525, ..., -0.15921896,\n",
       "        -0.14528414,  0.05197847],\n",
       "       ...,\n",
       "       [ 1.39150612, -0.64872372,  0.55418223, ..., -0.15921896,\n",
       "        -0.14528414,  0.05197847],\n",
       "       [ 1.27643099,  1.26075649,  0.55418223, ..., -0.15921896,\n",
       "        -0.14528414,  0.05197847],\n",
       "       [-1.24160744, -0.0102383 ,  0.55418223, ..., -0.15921896,\n",
       "        -0.14528414,  0.05197847]])"
      ]
     },
     "execution_count": 15,
     "metadata": {},
     "output_type": "execute_result"
    }
   ],
   "source": [
    "# train_X.shape\n",
    "train_X"
   ]
  },
  {
   "cell_type": "code",
   "execution_count": 16,
   "id": "7b5ed832",
   "metadata": {},
   "outputs": [
    {
     "name": "stdout",
     "output_type": "stream",
     "text": [
      "(15645608, 69)\n",
      "(15645608, 8)\n",
      "(1955701, 69)\n",
      "(1955701, 8)\n",
      "(1955702, 69)\n",
      "(1955702, 8)\n"
     ]
    }
   ],
   "source": [
    "print(train_X.shape)\n",
    "print(train_y.shape)\n",
    "print(valid_x.shape)\n",
    "print(valid_y.shape)\n",
    "print(test_X.shape)\n",
    "print(test_y.shape)"
   ]
  },
  {
   "cell_type": "code",
   "execution_count": null,
   "id": "794622f9",
   "metadata": {},
   "outputs": [],
   "source": []
  },
  {
   "cell_type": "markdown",
   "id": "711a587b",
   "metadata": {},
   "source": [
    "### Base Model "
   ]
  },
  {
   "cell_type": "code",
   "execution_count": 17,
   "id": "36cd443f",
   "metadata": {},
   "outputs": [
    {
     "name": "stderr",
     "output_type": "stream",
     "text": [
      "2023-03-15 00:17:46.438484: I tensorflow/core/platform/cpu_feature_guard.cc:193] This TensorFlow binary is optimized with oneAPI Deep Neural Network Library (oneDNN) to use the following CPU instructions in performance-critical operations:  AVX2 AVX512F AVX512_VNNI FMA\n",
      "To enable them in other operations, rebuild TensorFlow with the appropriate compiler flags.\n",
      "2023-03-15 00:17:47.055821: W tensorflow/core/common_runtime/gpu/gpu_bfc_allocator.cc:42] Overriding orig_value setting because the TF_FORCE_GPU_ALLOW_GROWTH environment variable is set. Original config value was 0.\n",
      "2023-03-15 00:17:47.055868: I tensorflow/core/common_runtime/gpu/gpu_device.cc:1616] Created device /job:localhost/replica:0/task:0/device:GPU:0 with 25557 MB memory:  -> device: 0, name: Tesla V100-PCIE-32GB, pci bus id: 0000:8a:00.0, compute capability: 7.0\n"
     ]
    }
   ],
   "source": [
    "model = Sequential()\n",
    "model.add(Dense(units = 128, input_shape = (69,), activation = 'relu'))\n",
    "model.add(Dense(units = 256, activation = 'relu', kernel_initializer = 'he_normal'))\n",
    "model.add(Dense(units = 512, activation = 'relu', kernel_initializer = 'he_normal'))\n",
    "model.add(Dropout(0.3))\n",
    "model.add(Dense(units = 8, activation = \"softmax\"))\n",
    "\n"
   ]
  },
  {
   "cell_type": "code",
   "execution_count": 18,
   "id": "3f768616",
   "metadata": {},
   "outputs": [
    {
     "name": "stdout",
     "output_type": "stream",
     "text": [
      "Model: \"sequential\"\n",
      "_________________________________________________________________\n",
      " Layer (type)                Output Shape              Param #   \n",
      "=================================================================\n",
      " dense (Dense)               (None, 128)               8960      \n",
      "                                                                 \n",
      " dense_1 (Dense)             (None, 256)               33024     \n",
      "                                                                 \n",
      " dense_2 (Dense)             (None, 512)               131584    \n",
      "                                                                 \n",
      " dropout (Dropout)           (None, 512)               0         \n",
      "                                                                 \n",
      " dense_3 (Dense)             (None, 8)                 4104      \n",
      "                                                                 \n",
      "=================================================================\n",
      "Total params: 177,672\n",
      "Trainable params: 177,672\n",
      "Non-trainable params: 0\n",
      "_________________________________________________________________\n"
     ]
    }
   ],
   "source": [
    "model.summary()"
   ]
  },
  {
   "cell_type": "code",
   "execution_count": 19,
   "id": "eedad965",
   "metadata": {},
   "outputs": [
    {
     "name": "stderr",
     "output_type": "stream",
     "text": [
      "/home/zczqlzh/p3-env/lib/python3.10/site-packages/keras/optimizers/optimizer_v2/adam.py:114: UserWarning: The `lr` argument is deprecated, use `learning_rate` instead.\n",
      "  super().__init__(name, **kwargs)\n"
     ]
    }
   ],
   "source": [
    "opt = Adam(lr=0.001)\n",
    "metrics=[]\n",
    "model.compile(optimizer=opt, loss='categorical_crossentropy', metrics=['accuracy'])"
   ]
  },
  {
   "cell_type": "code",
   "execution_count": 20,
   "id": "56114115",
   "metadata": {},
   "outputs": [],
   "source": [
    "\n",
    "# Set a learning rate annealer\n",
    "\n",
    "learning_rate_reduction = ReduceLROnPlateau(monitor=\"val_loss\", \n",
    "                                            patience=3, \n",
    "                                            verbose=1, \n",
    "                                            factor=0.5, \n",
    "                                            min_lr=0.00001)"
   ]
  },
  {
   "cell_type": "code",
   "execution_count": 21,
   "id": "f0069529",
   "metadata": {},
   "outputs": [],
   "source": [
    "epochs = 50 \n",
    "batch_size = 1024"
   ]
  },
  {
   "cell_type": "code",
   "execution_count": 22,
   "id": "20f75e4c",
   "metadata": {},
   "outputs": [
    {
     "name": "stdout",
     "output_type": "stream",
     "text": [
      "Epoch 1/50\n",
      "15279/15279 [==============================] - 68s 4ms/step - loss: 0.0640 - accuracy: 0.9834 - val_loss: 0.0552 - val_accuracy: 0.9854 - lr: 0.0010\n",
      "Epoch 2/50\n",
      "15279/15279 [==============================] - 67s 4ms/step - loss: 0.0556 - accuracy: 0.9853 - val_loss: 0.0535 - val_accuracy: 0.9859 - lr: 0.0010\n",
      "Epoch 3/50\n",
      "15279/15279 [==============================] - 49s 3ms/step - loss: 0.0536 - accuracy: 0.9859 - val_loss: 0.0526 - val_accuracy: 0.9860 - lr: 0.0010\n",
      "Epoch 4/50\n",
      "15279/15279 [==============================] - 63s 4ms/step - loss: 0.0532 - accuracy: 0.9859 - val_loss: 0.0526 - val_accuracy: 0.9858 - lr: 0.0010\n",
      "Epoch 5/50\n",
      "15279/15279 [==============================] - 67s 4ms/step - loss: 0.0527 - accuracy: 0.9860 - val_loss: 0.0537 - val_accuracy: 0.9855 - lr: 0.0010\n",
      "Epoch 6/50\n",
      "15279/15279 [==============================] - 56s 4ms/step - loss: 0.0526 - accuracy: 0.9860 - val_loss: 0.0519 - val_accuracy: 0.9860 - lr: 0.0010\n",
      "Epoch 7/50\n",
      "15279/15279 [==============================] - 58s 4ms/step - loss: 0.0524 - accuracy: 0.9861 - val_loss: 0.0518 - val_accuracy: 0.9861 - lr: 0.0010\n",
      "Epoch 8/50\n",
      "15279/15279 [==============================] - 67s 4ms/step - loss: 0.0523 - accuracy: 0.9861 - val_loss: 0.0523 - val_accuracy: 0.9861 - lr: 0.0010\n",
      "Epoch 9/50\n",
      "15279/15279 [==============================] - 62s 4ms/step - loss: 0.0521 - accuracy: 0.9862 - val_loss: 0.0517 - val_accuracy: 0.9861 - lr: 0.0010\n",
      "Epoch 10/50\n",
      "15279/15279 [==============================] - 54s 4ms/step - loss: 0.0522 - accuracy: 0.9861 - val_loss: 0.0591 - val_accuracy: 0.9848 - lr: 0.0010\n",
      "Epoch 11/50\n",
      "15279/15279 [==============================] - 70s 5ms/step - loss: 0.0531 - accuracy: 0.9861 - val_loss: 0.0532 - val_accuracy: 0.9860 - lr: 0.0010\n",
      "Epoch 12/50\n",
      "15266/15279 [============================>.] - ETA: 0s - loss: 0.0523 - accuracy: 0.9862\n",
      "Epoch 12: ReduceLROnPlateau reducing learning rate to 0.0005000000237487257.\n",
      "15279/15279 [==============================] - 66s 4ms/step - loss: 0.0523 - accuracy: 0.9862 - val_loss: 0.0522 - val_accuracy: 0.9858 - lr: 0.0010\n",
      "Epoch 13/50\n",
      "15279/15279 [==============================] - 53s 3ms/step - loss: 0.0507 - accuracy: 0.9864 - val_loss: 0.0508 - val_accuracy: 0.9863 - lr: 5.0000e-04\n",
      "Epoch 14/50\n",
      "15279/15279 [==============================] - 70s 5ms/step - loss: 0.0507 - accuracy: 0.9864 - val_loss: 0.0515 - val_accuracy: 0.9864 - lr: 5.0000e-04\n",
      "Epoch 15/50\n",
      "15279/15279 [==============================] - 68s 4ms/step - loss: 0.0506 - accuracy: 0.9865 - val_loss: 0.0511 - val_accuracy: 0.9863 - lr: 5.0000e-04\n",
      "Epoch 16/50\n",
      "15279/15279 [==============================] - 52s 3ms/step - loss: 0.0507 - accuracy: 0.9865 - val_loss: 0.0505 - val_accuracy: 0.9863 - lr: 5.0000e-04\n",
      "Epoch 17/50\n",
      "15279/15279 [==============================] - 69s 5ms/step - loss: 0.0516 - accuracy: 0.9865 - val_loss: 0.0511 - val_accuracy: 0.9863 - lr: 5.0000e-04\n",
      "Epoch 18/50\n",
      "15279/15279 [==============================] - 68s 4ms/step - loss: 0.0504 - accuracy: 0.9865 - val_loss: 0.0509 - val_accuracy: 0.9862 - lr: 5.0000e-04\n",
      "Epoch 19/50\n",
      "15279/15279 [==============================] - 48s 3ms/step - loss: 0.0507 - accuracy: 0.9865 - val_loss: 0.0504 - val_accuracy: 0.9863 - lr: 5.0000e-04\n",
      "Epoch 20/50\n",
      "15279/15279 [==============================] - 68s 4ms/step - loss: 0.0507 - accuracy: 0.9865 - val_loss: 0.0508 - val_accuracy: 0.9863 - lr: 5.0000e-04\n",
      "Epoch 21/50\n",
      "15279/15279 [==============================] - 68s 4ms/step - loss: 0.0540 - accuracy: 0.9865 - val_loss: 0.0505 - val_accuracy: 0.9864 - lr: 5.0000e-04\n",
      "Epoch 22/50\n",
      "15269/15279 [============================>.] - ETA: 0s - loss: 0.0504 - accuracy: 0.9865\n",
      "Epoch 22: ReduceLROnPlateau reducing learning rate to 0.0002500000118743628.\n",
      "15279/15279 [==============================] - 50s 3ms/step - loss: 0.0504 - accuracy: 0.9865 - val_loss: 0.0507 - val_accuracy: 0.9864 - lr: 5.0000e-04\n",
      "Epoch 23/50\n",
      "15279/15279 [==============================] - 68s 4ms/step - loss: 0.0498 - accuracy: 0.9866 - val_loss: 0.0504 - val_accuracy: 0.9862 - lr: 2.5000e-04\n",
      "Epoch 24/50\n",
      "15279/15279 [==============================] - 69s 5ms/step - loss: 0.0499 - accuracy: 0.9866 - val_loss: 0.0501 - val_accuracy: 0.9865 - lr: 2.5000e-04\n",
      "Epoch 25/50\n",
      "15279/15279 [==============================] - 46s 3ms/step - loss: 0.0497 - accuracy: 0.9866 - val_loss: 0.0501 - val_accuracy: 0.9864 - lr: 2.5000e-04\n",
      "Epoch 26/50\n",
      "15279/15279 [==============================] - 48s 3ms/step - loss: 0.0498 - accuracy: 0.9866 - val_loss: 0.0501 - val_accuracy: 0.9865 - lr: 2.5000e-04\n",
      "Epoch 27/50\n",
      "15279/15279 [==============================] - 67s 4ms/step - loss: 0.0608 - accuracy: 0.9866 - val_loss: 0.0499 - val_accuracy: 0.9865 - lr: 2.5000e-04\n",
      "Epoch 28/50\n",
      "15279/15279 [==============================] - 67s 4ms/step - loss: 0.0498 - accuracy: 0.9866 - val_loss: 0.0500 - val_accuracy: 0.9864 - lr: 2.5000e-04\n",
      "Epoch 29/50\n",
      "15279/15279 [==============================] - 50s 3ms/step - loss: 0.0497 - accuracy: 0.9866 - val_loss: 0.0502 - val_accuracy: 0.9865 - lr: 2.5000e-04\n",
      "Epoch 30/50\n",
      "15278/15279 [============================>.] - ETA: 0s - loss: 0.0499 - accuracy: 0.9866\n",
      "Epoch 30: ReduceLROnPlateau reducing learning rate to 0.0001250000059371814.\n",
      "15279/15279 [==============================] - 68s 4ms/step - loss: 0.0499 - accuracy: 0.9866 - val_loss: 0.0500 - val_accuracy: 0.9864 - lr: 2.5000e-04\n",
      "Epoch 31/50\n",
      "15279/15279 [==============================] - 69s 4ms/step - loss: 0.0496 - accuracy: 0.9867 - val_loss: 0.0500 - val_accuracy: 0.9865 - lr: 1.2500e-04\n",
      "Epoch 32/50\n",
      "15279/15279 [==============================] - 46s 3ms/step - loss: 0.0507 - accuracy: 0.9867 - val_loss: 0.0499 - val_accuracy: 0.9866 - lr: 1.2500e-04\n",
      "Epoch 33/50\n",
      "15279/15279 [==============================] - ETA: 0s - loss: 0.0493 - accuracy: 0.9867\n",
      "Epoch 33: ReduceLROnPlateau reducing learning rate to 6.25000029685907e-05.\n",
      "15279/15279 [==============================] - 66s 4ms/step - loss: 0.0493 - accuracy: 0.9867 - val_loss: 0.0499 - val_accuracy: 0.9865 - lr: 1.2500e-04\n",
      "Epoch 34/50\n",
      "15279/15279 [==============================] - 68s 4ms/step - loss: 0.0491 - accuracy: 0.9867 - val_loss: 0.0497 - val_accuracy: 0.9865 - lr: 6.2500e-05\n",
      "Epoch 35/50\n",
      "15279/15279 [==============================] - 55s 4ms/step - loss: 0.0494 - accuracy: 0.9867 - val_loss: 0.0496 - val_accuracy: 0.9866 - lr: 6.2500e-05\n",
      "Epoch 36/50\n",
      "15279/15279 [==============================] - 59s 4ms/step - loss: 0.0491 - accuracy: 0.9867 - val_loss: 0.0496 - val_accuracy: 0.9865 - lr: 6.2500e-05\n",
      "Epoch 37/50\n",
      "15272/15279 [============================>.] - ETA: 0s - loss: 0.0494 - accuracy: 0.9867\n",
      "Epoch 37: ReduceLROnPlateau reducing learning rate to 3.125000148429535e-05.\n",
      "15279/15279 [==============================] - 67s 4ms/step - loss: 0.0494 - accuracy: 0.9867 - val_loss: 0.0496 - val_accuracy: 0.9866 - lr: 6.2500e-05\n",
      "Epoch 38/50\n",
      "15279/15279 [==============================] - 63s 4ms/step - loss: 0.0490 - accuracy: 0.9867 - val_loss: 0.0496 - val_accuracy: 0.9865 - lr: 3.1250e-05\n",
      "Epoch 39/50\n",
      "15279/15279 [==============================] - 49s 3ms/step - loss: 0.0489 - accuracy: 0.9867 - val_loss: 0.0496 - val_accuracy: 0.9865 - lr: 3.1250e-05\n",
      "Epoch 40/50\n",
      "15279/15279 [==============================] - 67s 4ms/step - loss: 0.0558 - accuracy: 0.9867 - val_loss: 0.0495 - val_accuracy: 0.9866 - lr: 3.1250e-05\n",
      "Epoch 41/50\n",
      "15279/15279 [==============================] - ETA: 0s - loss: 0.0489 - accuracy: 0.9867\n",
      "Epoch 41: ReduceLROnPlateau reducing learning rate to 1.5625000742147677e-05.\n",
      "15279/15279 [==============================] - 70s 5ms/step - loss: 0.0489 - accuracy: 0.9867 - val_loss: 0.0495 - val_accuracy: 0.9865 - lr: 3.1250e-05\n",
      "Epoch 42/50\n",
      "15279/15279 [==============================] - 47s 3ms/step - loss: 0.0489 - accuracy: 0.9867 - val_loss: 0.0495 - val_accuracy: 0.9865 - lr: 1.5625e-05\n",
      "Epoch 43/50\n",
      "15279/15279 [==============================] - 66s 4ms/step - loss: 0.0489 - accuracy: 0.9867 - val_loss: 0.0495 - val_accuracy: 0.9866 - lr: 1.5625e-05\n",
      "Epoch 44/50\n",
      "15277/15279 [============================>.] - ETA: 0s - loss: 0.0489 - accuracy: 0.9867\n",
      "Epoch 44: ReduceLROnPlateau reducing learning rate to 1e-05.\n"
     ]
    },
    {
     "name": "stdout",
     "output_type": "stream",
     "text": [
      "15279/15279 [==============================] - 68s 4ms/step - loss: 0.0489 - accuracy: 0.9867 - val_loss: 0.0495 - val_accuracy: 0.9866 - lr: 1.5625e-05\n",
      "Epoch 45/50\n",
      "15279/15279 [==============================] - 47s 3ms/step - loss: 0.0524 - accuracy: 0.9867 - val_loss: 0.0495 - val_accuracy: 0.9865 - lr: 1.0000e-05\n",
      "Epoch 46/50\n",
      "15279/15279 [==============================] - 67s 4ms/step - loss: 0.0549 - accuracy: 0.9867 - val_loss: 0.0495 - val_accuracy: 0.9865 - lr: 1.0000e-05\n",
      "Epoch 47/50\n",
      "15279/15279 [==============================] - 68s 4ms/step - loss: 0.0556 - accuracy: 0.9867 - val_loss: 0.0495 - val_accuracy: 0.9866 - lr: 1.0000e-05\n",
      "Epoch 48/50\n",
      "15279/15279 [==============================] - 53s 3ms/step - loss: 0.0489 - accuracy: 0.9867 - val_loss: 0.0495 - val_accuracy: 0.9866 - lr: 1.0000e-05\n",
      "Epoch 49/50\n",
      "15279/15279 [==============================] - 62s 4ms/step - loss: 0.0489 - accuracy: 0.9867 - val_loss: 0.0495 - val_accuracy: 0.9865 - lr: 1.0000e-05\n",
      "Epoch 50/50\n",
      "15279/15279 [==============================] - 68s 4ms/step - loss: 0.0492 - accuracy: 0.9867 - val_loss: 0.0495 - val_accuracy: 0.9866 - lr: 1.0000e-05\n"
     ]
    }
   ],
   "source": [
    "history = model.fit(train_X, train_y, batch_size = batch_size, epochs = epochs, \n",
    "         validation_data = (valid_x, valid_y), verbose = 1,callbacks=[learning_rate_reduction])"
   ]
  },
  {
   "cell_type": "code",
   "execution_count": 23,
   "id": "b193ff00",
   "metadata": {},
   "outputs": [
    {
     "data": {
      "image/png": "[encoded data removed]",
      "text/plain": [
       "<Figure size 640x480 with 2 Axes>"
      ]
     },
     "metadata": {},
     "output_type": "display_data"
    }
   ],
   "source": [
    "#evulation epoch 30\n",
    "fig,ax = plt.subplots(2,1)\n",
    "ax[0].plot(history.history['loss'], color='b', label=\"Training loss\")\n",
    "ax[0].plot(history.history['val_loss'], color='r', label=\"Validation loss\",axes =ax[0])\n",
    "legend = ax[0].legend(loc='best', shadow=True)\n",
    "\n",
    "ax[1].plot(history.history['accuracy'], color='b', label=\"Training accuracy\")\n",
    "ax[1].plot(history.history['val_accuracy'], color='r',label=\"Validation accuracy\")\n",
    "legend = ax[1].legend(loc='best', shadow=True)\n",
    "\n",
    "plt.savefig('./results_img/NN_base.jpg')\n"
   ]
  },
  {
   "cell_type": "code",
   "execution_count": 24,
   "id": "2f0335ae",
   "metadata": {},
   "outputs": [
    {
     "name": "stdout",
     "output_type": "stream",
     "text": [
      "61116/61116 [==============================] - 78s 1ms/step\n",
      "0.9868343950151914\n"
     ]
    }
   ],
   "source": [
    "#Predict the output\n",
    "\n",
    "Y_pred = model.predict(test_X,verbose=1)\n",
    "# Convert predictions classes to one hot vectors \n",
    "Y_pred_classes = np.argmax(Y_pred,axis = 1) \n",
    "# Convert validation observations to one hot vectors\n",
    "Y_true = np.argmax(test_y,axis = 1) \n",
    "print(accuracy_score(Y_true, Y_pred_classes))\n",
    "\n"
   ]
  },
  {
   "cell_type": "code",
   "execution_count": 25,
   "id": "f46fdbc7",
   "metadata": {},
   "outputs": [],
   "source": [
    "model.save_weights('./model/NN_weights.h5')"
   ]
  },
  {
   "cell_type": "code",
   "execution_count": 26,
   "id": "db406682",
   "metadata": {},
   "outputs": [
    {
     "data": {
      "image/png": "[encoded data removed]",
      "text/plain": [
       "<Figure size 800x800 with 2 Axes>"
      ]
     },
     "metadata": {},
     "output_type": "display_data"
    },
    {
     "data": {
      "text/plain": [
       "<Figure size 640x480 with 0 Axes>"
      ]
     },
     "metadata": {},
     "output_type": "display_data"
    }
   ],
   "source": [
    "disp = confusion_matrix(Y_true,Y_pred_classes,normalize='true')\n",
    "plt.figure(figsize=(8, 8))\n",
    "sns.heatmap(disp,annot=True,cmap='Blues')\n",
    "plt.ylim(0, 8)\n",
    "plt.title('Confusion matrix')\n",
    "plt.xlabel('Predicted labels')\n",
    "plt.ylabel('True labels')\n",
    "plt.show()\n",
    "plt.savefig('./results_img/NN_base_matrix.jpg')\n"
   ]
  },
  {
   "cell_type": "code",
   "execution_count": 27,
   "id": "6d717555",
   "metadata": {},
   "outputs": [
    {
     "name": "stdout",
     "output_type": "stream",
     "text": [
      "              precision    recall  f1-score   support\n",
      "\n",
      "           0       1.00      1.00      1.00      5609\n",
      "           1       1.00      0.99      0.99    562327\n",
      "           2       1.00      1.00      1.00    455923\n",
      "           3       1.00      1.00      1.00    187309\n",
      "           4       1.00      0.95      0.98    369668\n",
      "           5       0.98      0.99      0.99    374648\n",
      "           6       0.58      0.62      0.60       170\n",
      "           7       0.00      0.75      0.00        48\n",
      "\n",
      "    accuracy                           0.99   1955702\n",
      "   macro avg       0.82      0.91      0.82   1955702\n",
      "weighted avg       1.00      0.99      0.99   1955702\n",
      "\n"
     ]
    }
   ],
   "source": [
    "print(classification_report(Y_pred_classes,Y_true))"
   ]
  },
  {
   "cell_type": "markdown",
   "id": "035b860b",
   "metadata": {},
   "source": [
    "### Model (add weights)"
   ]
  },
  {
   "cell_type": "code",
   "execution_count": 28,
   "id": "81641989",
   "metadata": {},
   "outputs": [],
   "source": [
    "model = Sequential()\n",
    "model.add(Dense(units = 128, input_shape = (69,), activation = 'relu'))\n",
    "model.add(Dense(units = 256, activation = 'relu', kernel_initializer = 'he_normal'))\n",
    "model.add(Dense(units = 512, activation = 'relu', kernel_initializer = 'he_normal'))\n",
    "model.add(Dropout(0.3))\n",
    "model.add(Dense(units = 8, activation = \"softmax\"))\n",
    "\n"
   ]
  },
  {
   "cell_type": "code",
   "execution_count": null,
   "id": "fcf7ee2c",
   "metadata": {},
   "outputs": [],
   "source": []
  },
  {
   "cell_type": "code",
   "execution_count": 29,
   "id": "0132ad55",
   "metadata": {},
   "outputs": [
    {
     "name": "stdout",
     "output_type": "stream",
     "text": [
      "Model: \"sequential_1\"\n",
      "_________________________________________________________________\n",
      " Layer (type)                Output Shape              Param #   \n",
      "=================================================================\n",
      " dense_4 (Dense)             (None, 128)               8960      \n",
      "                                                                 \n",
      " dense_5 (Dense)             (None, 256)               33024     \n",
      "                                                                 \n",
      " dense_6 (Dense)             (None, 512)               131584    \n",
      "                                                                 \n",
      " dropout_1 (Dropout)         (None, 512)               0         \n",
      "                                                                 \n",
      " dense_7 (Dense)             (None, 8)                 4104      \n",
      "                                                                 \n",
      "=================================================================\n",
      "Total params: 177,672\n",
      "Trainable params: 177,672\n",
      "Non-trainable params: 0\n",
      "_________________________________________________________________\n"
     ]
    }
   ],
   "source": [
    "model.summary()"
   ]
  },
  {
   "cell_type": "code",
   "execution_count": 35,
   "id": "2ccacafd",
   "metadata": {},
   "outputs": [
    {
     "name": "stdout",
     "output_type": "stream",
     "text": [
      "[4.34168006e+01 4.37754333e-01 5.36239510e-01 1.30579320e+00\n",
      " 6.95307189e-01 6.44969439e-01 1.30519294e+03 1.37960935e+01]\n"
     ]
    },
    {
     "data": {
      "text/plain": [
       "{0: 43.4168006073953,\n",
       " 1: 0.43775433250526324,\n",
       " 2: 0.5362395101992111,\n",
       " 3: 1.3057931996502397,\n",
       " 4: 0.6953071892952404,\n",
       " 5: 0.6449694390784049,\n",
       " 6: 1305.1929391350775,\n",
       " 7: 13.796093472237114}"
      ]
     },
     "execution_count": 35,
     "metadata": {},
     "output_type": "execute_result"
    }
   ],
   "source": [
    "class_weights = class_weight.compute_class_weight('balanced',\n",
    "                                                 classes = np.unique(df_weights),\n",
    "                                                 y = df_weights)\n",
    "print(class_weights)\n",
    "class_weights = dict(enumerate(class_weights))\n",
    "class_weights\n",
    "\n",
    "\n"
   ]
  },
  {
   "cell_type": "code",
   "execution_count": 38,
   "id": "ee061f0b",
   "metadata": {},
   "outputs": [],
   "source": [
    "\n",
    "# Set a learning rate annealer\n",
    "\n",
    "learning_rate_reduction = ReduceLROnPlateau(monitor=\"val_loss\", \n",
    "                                            patience=3, \n",
    "                                            verbose=1, \n",
    "                                            factor=0.5, \n",
    "                                            min_lr=0.00001)"
   ]
  },
  {
   "cell_type": "code",
   "execution_count": 36,
   "id": "82830c53",
   "metadata": {},
   "outputs": [
    {
     "name": "stderr",
     "output_type": "stream",
     "text": [
      "/home/zczqlzh/p3-env/lib/python3.10/site-packages/keras/optimizers/optimizer_v2/adam.py:114: UserWarning: The `lr` argument is deprecated, use `learning_rate` instead.\n",
      "  super().__init__(name, **kwargs)\n"
     ]
    }
   ],
   "source": [
    "opt = Adam(lr=0.001)\n",
    "metrics=[]\n",
    "model.compile(optimizer=opt, loss='categorical_crossentropy', metrics=['accuracy'])"
   ]
  },
  {
   "cell_type": "code",
   "execution_count": 37,
   "id": "f20ed9af",
   "metadata": {},
   "outputs": [],
   "source": [
    "epochs = 50\n",
    "batch_size = 1024"
   ]
  },
  {
   "cell_type": "code",
   "execution_count": 39,
   "id": "292f8ead",
   "metadata": {},
   "outputs": [
    {
     "name": "stdout",
     "output_type": "stream",
     "text": [
      "Epoch 1/50\n",
      "15279/15279 [==============================] - 75s 5ms/step - loss: 0.4191 - accuracy: 0.8678 - val_loss: 0.1923 - val_accuracy: 0.8706 - lr: 0.0010\n",
      "Epoch 2/50\n",
      "15279/15279 [==============================] - 51s 3ms/step - loss: 0.4411 - accuracy: 0.8733 - val_loss: 0.1945 - val_accuracy: 0.8507 - lr: 0.0010\n",
      "Epoch 3/50\n",
      "15279/15279 [==============================] - 72s 5ms/step - loss: 0.4883 - accuracy: 0.8732 - val_loss: 0.2306 - val_accuracy: 0.9488 - lr: 0.0010\n",
      "Epoch 4/50\n",
      "15279/15279 [==============================] - 71s 5ms/step - loss: 0.4868 - accuracy: 0.8676 - val_loss: 0.1803 - val_accuracy: 0.8599 - lr: 0.0010\n",
      "Epoch 5/50\n",
      "15279/15279 [==============================] - 51s 3ms/step - loss: 0.3766 - accuracy: 0.8629 - val_loss: 0.2803 - val_accuracy: 0.8289 - lr: 0.0010\n",
      "Epoch 6/50\n",
      "15279/15279 [==============================] - 71s 5ms/step - loss: 0.4250 - accuracy: 0.8658 - val_loss: 0.3569 - val_accuracy: 0.8908 - lr: 0.0010\n",
      "Epoch 7/50\n",
      "15262/15279 [============================>.] - ETA: 0s - loss: 0.4153 - accuracy: 0.8660\n",
      "Epoch 7: ReduceLROnPlateau reducing learning rate to 0.0005000000237487257.\n",
      "15279/15279 [==============================] - 71s 5ms/step - loss: 0.4151 - accuracy: 0.8660 - val_loss: 0.1940 - val_accuracy: 0.9586 - lr: 0.0010\n",
      "Epoch 8/50\n",
      "15279/15279 [==============================] - 46s 3ms/step - loss: 0.3454 - accuracy: 0.8617 - val_loss: 0.2202 - val_accuracy: 0.8363 - lr: 5.0000e-04\n",
      "Epoch 9/50\n",
      "15279/15279 [==============================] - 35s 2ms/step - loss: 0.3251 - accuracy: 0.8653 - val_loss: 0.2280 - val_accuracy: 0.8391 - lr: 5.0000e-04\n",
      "Epoch 10/50\n",
      "15271/15279 [============================>.] - ETA: 0s - loss: 0.3288 - accuracy: 0.8672\n",
      "Epoch 10: ReduceLROnPlateau reducing learning rate to 0.0002500000118743628.\n",
      "15279/15279 [==============================] - 35s 2ms/step - loss: 0.3287 - accuracy: 0.8672 - val_loss: 0.1898 - val_accuracy: 0.8550 - lr: 5.0000e-04\n",
      "Epoch 11/50\n",
      "15279/15279 [==============================] - 35s 2ms/step - loss: 0.2761 - accuracy: 0.8682 - val_loss: 0.1973 - val_accuracy: 0.8504 - lr: 2.5000e-04\n",
      "Epoch 12/50\n",
      "15279/15279 [==============================] - 35s 2ms/step - loss: 0.3733 - accuracy: 0.8673 - val_loss: 0.1740 - val_accuracy: 0.9395 - lr: 2.5000e-04\n",
      "Epoch 13/50\n",
      "15279/15279 [==============================] - 36s 2ms/step - loss: 0.2800 - accuracy: 0.8664 - val_loss: 0.1897 - val_accuracy: 0.8571 - lr: 2.5000e-04\n",
      "Epoch 14/50\n",
      "15279/15279 [==============================] - 40s 3ms/step - loss: 0.2569 - accuracy: 0.8722 - val_loss: 0.1785 - val_accuracy: 0.8594 - lr: 2.5000e-04\n",
      "Epoch 15/50\n",
      "15277/15279 [============================>.] - ETA: 0s - loss: 0.2749 - accuracy: 0.8661\n",
      "Epoch 15: ReduceLROnPlateau reducing learning rate to 0.0001250000059371814.\n",
      "15279/15279 [==============================] - 70s 5ms/step - loss: 0.2749 - accuracy: 0.8661 - val_loss: 0.1774 - val_accuracy: 0.8620 - lr: 2.5000e-04\n",
      "Epoch 16/50\n",
      "15279/15279 [==============================] - 71s 5ms/step - loss: 0.2682 - accuracy: 0.8641 - val_loss: 0.1814 - val_accuracy: 0.8539 - lr: 1.2500e-04\n",
      "Epoch 17/50\n",
      "15279/15279 [==============================] - 52s 3ms/step - loss: 0.2479 - accuracy: 0.8596 - val_loss: 0.1979 - val_accuracy: 0.8423 - lr: 1.2500e-04\n",
      "Epoch 18/50\n",
      "15260/15279 [============================>.] - ETA: 0s - loss: 0.2446 - accuracy: 0.8630\n",
      "Epoch 18: ReduceLROnPlateau reducing learning rate to 6.25000029685907e-05.\n",
      "15279/15279 [==============================] - 70s 5ms/step - loss: 0.2446 - accuracy: 0.8630 - val_loss: 0.1872 - val_accuracy: 0.8511 - lr: 1.2500e-04\n",
      "Epoch 19/50\n",
      "15279/15279 [==============================] - 71s 5ms/step - loss: 0.2374 - accuracy: 0.8592 - val_loss: 0.1771 - val_accuracy: 0.8550 - lr: 6.2500e-05\n",
      "Epoch 20/50\n",
      "15279/15279 [==============================] - 52s 3ms/step - loss: 0.2347 - accuracy: 0.8571 - val_loss: 0.1723 - val_accuracy: 0.8577 - lr: 6.2500e-05\n",
      "Epoch 21/50\n",
      "15279/15279 [==============================] - 70s 5ms/step - loss: 0.2395 - accuracy: 0.8552 - val_loss: 0.1757 - val_accuracy: 0.8571 - lr: 6.2500e-05\n",
      "Epoch 22/50\n",
      "15279/15279 [==============================] - 70s 5ms/step - loss: 0.2490 - accuracy: 0.8571 - val_loss: 0.1820 - val_accuracy: 0.8537 - lr: 6.2500e-05\n",
      "Epoch 23/50\n",
      "15263/15279 [============================>.] - ETA: 0s - loss: 0.2335 - accuracy: 0.8601\n",
      "Epoch 23: ReduceLROnPlateau reducing learning rate to 3.125000148429535e-05.\n",
      "15279/15279 [==============================] - 50s 3ms/step - loss: 0.2335 - accuracy: 0.8601 - val_loss: 0.1836 - val_accuracy: 0.8496 - lr: 6.2500e-05\n",
      "Epoch 24/50\n",
      "15279/15279 [==============================] - 70s 5ms/step - loss: 0.2251 - accuracy: 0.8580 - val_loss: 0.1787 - val_accuracy: 0.8552 - lr: 3.1250e-05\n",
      "Epoch 25/50\n",
      "15279/15279 [==============================] - 71s 5ms/step - loss: 0.2264 - accuracy: 0.8590 - val_loss: 0.1687 - val_accuracy: 0.8580 - lr: 3.1250e-05\n",
      "Epoch 26/50\n",
      "15279/15279 [==============================] - 52s 3ms/step - loss: 0.2232 - accuracy: 0.8615 - val_loss: 0.1730 - val_accuracy: 0.8574 - lr: 3.1250e-05\n",
      "Epoch 27/50\n",
      "15279/15279 [==============================] - 70s 5ms/step - loss: 0.2292 - accuracy: 0.8615 - val_loss: 0.1643 - val_accuracy: 0.8594 - lr: 3.1250e-05\n",
      "Epoch 28/50\n",
      "15279/15279 [==============================] - 71s 5ms/step - loss: 0.2229 - accuracy: 0.8568 - val_loss: 0.1714 - val_accuracy: 0.8604 - lr: 3.1250e-05\n",
      "Epoch 29/50\n",
      "15279/15279 [==============================] - 52s 3ms/step - loss: 0.2469 - accuracy: 0.8579 - val_loss: 0.1759 - val_accuracy: 0.8560 - lr: 3.1250e-05\n",
      "Epoch 30/50\n",
      "15278/15279 [============================>.] - ETA: 0s - loss: 0.2212 - accuracy: 0.8621\n",
      "Epoch 30: ReduceLROnPlateau reducing learning rate to 1.5625000742147677e-05.\n",
      "15279/15279 [==============================] - 70s 5ms/step - loss: 0.2212 - accuracy: 0.8621 - val_loss: 0.1805 - val_accuracy: 0.8530 - lr: 3.1250e-05\n",
      "Epoch 31/50\n",
      "15279/15279 [==============================] - 70s 5ms/step - loss: 0.2187 - accuracy: 0.8630 - val_loss: 0.1669 - val_accuracy: 0.8648 - lr: 1.5625e-05\n",
      "Epoch 32/50\n",
      "15279/15279 [==============================] - 51s 3ms/step - loss: 0.2228 - accuracy: 0.8647 - val_loss: 0.1698 - val_accuracy: 0.8583 - lr: 1.5625e-05\n",
      "Epoch 33/50\n",
      "15276/15279 [============================>.] - ETA: 0s - loss: 0.2161 - accuracy: 0.8645\n",
      "Epoch 33: ReduceLROnPlateau reducing learning rate to 1e-05.\n",
      "15279/15279 [==============================] - 71s 5ms/step - loss: 0.2161 - accuracy: 0.8645 - val_loss: 0.1667 - val_accuracy: 0.8604 - lr: 1.5625e-05\n",
      "Epoch 34/50\n",
      "15279/15279 [==============================] - 71s 5ms/step - loss: 0.2179 - accuracy: 0.8654 - val_loss: 0.1700 - val_accuracy: 0.8580 - lr: 1.0000e-05\n",
      "Epoch 35/50\n",
      "15279/15279 [==============================] - 51s 3ms/step - loss: 0.2178 - accuracy: 0.8635 - val_loss: 0.1684 - val_accuracy: 0.8594 - lr: 1.0000e-05\n",
      "Epoch 36/50\n",
      "15279/15279 [==============================] - 71s 5ms/step - loss: 0.2144 - accuracy: 0.8668 - val_loss: 0.1685 - val_accuracy: 0.8598 - lr: 1.0000e-05\n",
      "Epoch 37/50\n",
      "15279/15279 [==============================] - 72s 5ms/step - loss: 0.2145 - accuracy: 0.8690 - val_loss: 0.1714 - val_accuracy: 0.8584 - lr: 1.0000e-05\n",
      "Epoch 38/50\n",
      "15279/15279 [==============================] - 52s 3ms/step - loss: 0.2384 - accuracy: 0.8711 - val_loss: 0.1704 - val_accuracy: 0.8582 - lr: 1.0000e-05\n",
      "Epoch 39/50\n",
      "15279/15279 [==============================] - 70s 5ms/step - loss: 0.2140 - accuracy: 0.8697 - val_loss: 0.1684 - val_accuracy: 0.8580 - lr: 1.0000e-05\n",
      "Epoch 40/50\n",
      "15279/15279 [==============================] - 73s 5ms/step - loss: 0.2149 - accuracy: 0.8622 - val_loss: 0.1716 - val_accuracy: 0.8570 - lr: 1.0000e-05\n",
      "Epoch 41/50\n",
      "15279/15279 [==============================] - 53s 3ms/step - loss: 0.2129 - accuracy: 0.8704 - val_loss: 0.1690 - val_accuracy: 0.8594 - lr: 1.0000e-05\n",
      "Epoch 42/50\n",
      "15279/15279 [==============================] - 73s 5ms/step - loss: 0.2146 - accuracy: 0.8639 - val_loss: 0.1714 - val_accuracy: 0.8578 - lr: 1.0000e-05\n",
      "Epoch 43/50\n",
      "15279/15279 [==============================] - 71s 5ms/step - loss: 0.2160 - accuracy: 0.8699 - val_loss: 0.1678 - val_accuracy: 0.8737 - lr: 1.0000e-05\n"
     ]
    },
    {
     "name": "stdout",
     "output_type": "stream",
     "text": [
      "Epoch 44/50\n",
      "15279/15279 [==============================] - 55s 4ms/step - loss: 0.2216 - accuracy: 0.8732 - val_loss: 0.1727 - val_accuracy: 0.8588 - lr: 1.0000e-05\n",
      "Epoch 45/50\n",
      "15279/15279 [==============================] - 72s 5ms/step - loss: 0.2153 - accuracy: 0.8737 - val_loss: 0.1688 - val_accuracy: 0.8599 - lr: 1.0000e-05\n",
      "Epoch 46/50\n",
      "15279/15279 [==============================] - 69s 4ms/step - loss: 0.2212 - accuracy: 0.8748 - val_loss: 0.1723 - val_accuracy: 0.8636 - lr: 1.0000e-05\n",
      "Epoch 47/50\n",
      "15279/15279 [==============================] - 56s 4ms/step - loss: 0.2160 - accuracy: 0.8776 - val_loss: 0.1732 - val_accuracy: 0.8631 - lr: 1.0000e-05\n",
      "Epoch 48/50\n",
      "15279/15279 [==============================] - 73s 5ms/step - loss: 0.2159 - accuracy: 0.8764 - val_loss: 0.1736 - val_accuracy: 0.8580 - lr: 1.0000e-05\n",
      "Epoch 49/50\n",
      "15279/15279 [==============================] - 68s 4ms/step - loss: 0.2246 - accuracy: 0.8799 - val_loss: 0.1713 - val_accuracy: 0.8609 - lr: 1.0000e-05\n",
      "Epoch 50/50\n",
      "15279/15279 [==============================] - 58s 4ms/step - loss: 0.2125 - accuracy: 0.8790 - val_loss: 0.1703 - val_accuracy: 0.8679 - lr: 1.0000e-05\n"
     ]
    }
   ],
   "source": [
    "history = model.fit(train_X, train_y, batch_size = batch_size, epochs = epochs, \n",
    "         validation_data = (valid_x, valid_y), verbose = 1, callbacks=[learning_rate_reduction], class_weight=class_weights)"
   ]
  },
  {
   "cell_type": "code",
   "execution_count": 40,
   "id": "e76bcc13",
   "metadata": {},
   "outputs": [
    {
     "data": {
      "image/png": "[encoded data removed]",
      "text/plain": [
       "<Figure size 640x480 with 2 Axes>"
      ]
     },
     "metadata": {},
     "output_type": "display_data"
    }
   ],
   "source": [
    "\n",
    "fig,ax = plt.subplots(2,1)\n",
    "ax[0].plot(history.history['loss'], color='b', label=\"Training loss\")\n",
    "ax[0].plot(history.history['val_loss'], color='r', label=\"Validation loss\",axes =ax[0])\n",
    "legend = ax[0].legend(loc='best', shadow=True)\n",
    "\n",
    "ax[1].plot(history.history['accuracy'], color='b', label=\"Training accuracy\")\n",
    "ax[1].plot(history.history['val_accuracy'], color='r',label=\"Validation accuracy\")\n",
    "legend = ax[1].legend(loc='best', shadow=True)\n",
    "\n",
    "plt.savefig('./results_img/NN_weighted.jpg')\n"
   ]
  },
  {
   "cell_type": "code",
   "execution_count": 44,
   "id": "c3f7874a",
   "metadata": {},
   "outputs": [],
   "source": [
    "model.save_weights('./model/NN_weighted.h5')"
   ]
  },
  {
   "cell_type": "code",
   "execution_count": 41,
   "id": "4f6fbadf",
   "metadata": {},
   "outputs": [
    {
     "name": "stdout",
     "output_type": "stream",
     "text": [
      "61116/61116 [==============================] - 95s 2ms/step\n",
      "0.868601146800484\n"
     ]
    }
   ],
   "source": [
    "#Predict the output\n",
    "\n",
    "Y_pred = model.predict(test_X,verbose=1)\n",
    "# Convert predictions classes to one hot vectors \n",
    "Y_pred_classes = np.argmax(Y_pred,axis = 1) \n",
    "# Convert validation observations to one hot vectors\n",
    "Y_true = np.argmax(test_y,axis = 1) \n",
    "print(accuracy_score(Y_true, Y_pred_classes))\n",
    "\n"
   ]
  },
  {
   "cell_type": "code",
   "execution_count": 42,
   "id": "7192cb2f",
   "metadata": {},
   "outputs": [
    {
     "data": {
      "image/png": "[encoded data removed]",
      "text/plain": [
       "<Figure size 800x800 with 2 Axes>"
      ]
     },
     "metadata": {},
     "output_type": "display_data"
    },
    {
     "data": {
      "text/plain": [
       "<Figure size 640x480 with 0 Axes>"
      ]
     },
     "metadata": {},
     "output_type": "display_data"
    }
   ],
   "source": [
    "disp = confusion_matrix(Y_true,Y_pred_classes,normalize='true')\n",
    "plt.figure(figsize=(8, 8))\n",
    "sns.heatmap(disp,annot=True,cmap='Blues')\n",
    "plt.ylim(0, 8)\n",
    "plt.title('Confusion matrix')\n",
    "plt.xlabel('Predicted labels')\n",
    "plt.ylabel('True labels')\n",
    "plt.show()\n",
    "plt.savefig('./results_img/NN_weighted_matrix.jpg')\n"
   ]
  },
  {
   "cell_type": "code",
   "execution_count": 43,
   "id": "2d7698f1",
   "metadata": {},
   "outputs": [
    {
     "name": "stdout",
     "output_type": "stream",
     "text": [
      "              precision    recall  f1-score   support\n",
      "\n",
      "           0       1.00      0.98      0.99      5697\n",
      "           1       0.98      0.99      0.99    556950\n",
      "           2       1.00      1.00      1.00    454966\n",
      "           3       1.00      1.00      1.00    187222\n",
      "           4       0.36      0.97      0.52    130858\n",
      "           5       0.96      0.99      0.97    364528\n",
      "           6       0.98      0.01      0.02     16446\n",
      "           7       0.74      0.06      0.10    239035\n",
      "\n",
      "    accuracy                           0.87   1955702\n",
      "   macro avg       0.88      0.75      0.70   1955702\n",
      "weighted avg       0.91      0.87      0.84   1955702\n",
      "\n"
     ]
    }
   ],
   "source": [
    "print(classification_report(Y_pred_classes,Y_true))"
   ]
  },
  {
   "cell_type": "code",
   "execution_count": null,
   "id": "cd9097d6",
   "metadata": {},
   "outputs": [],
   "source": []
  }
 ],
 "metadata": {
  "kernelspec": {
   "display_name": "Python 3 (ipykernel)",
   "language": "python",
   "name": "python3"
  },
  "language_info": {
   "codemirror_mode": {
    "name": "ipython",
    "version": 3
   },
   "file_extension": ".py",
   "mimetype": "text/x-python",
   "name": "python",
   "nbconvert_exporter": "python",
   "pygments_lexer": "ipython3",
   "version": "3.10.9"
  }
 },
 "nbformat": 4,
 "nbformat_minor": 5
}
